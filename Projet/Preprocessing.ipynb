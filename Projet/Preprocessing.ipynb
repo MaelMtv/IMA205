{
 "cells": [
  {
   "cell_type": "code",
   "execution_count": 1,
   "metadata": {},
   "outputs": [
    {
     "name": "stdout",
     "output_type": "stream",
     "text": [
      "WARNING:tensorflow:From c:\\Users\\maelm\\AppData\\Local\\Programs\\Python\\Python311\\Lib\\site-packages\\keras\\src\\losses.py:2976: The name tf.losses.sparse_softmax_cross_entropy is deprecated. Please use tf.compat.v1.losses.sparse_softmax_cross_entropy instead.\n",
      "\n"
     ]
    }
   ],
   "source": [
    "import os\n",
    "import numpy as np\n",
    "from glob import glob\n",
    "import pandas as pd\n",
    "import matplotlib.pyplot as plt\n",
    "import cv2 as cv\n",
    "from tensorflow import keras\n",
    "from tensorflow.keras.models import Model\n",
    "from tensorflow.keras.layers import Input, Conv2D, Conv2DTranspose\n",
    "from tensorflow.keras import Sequential\n",
    "from tensorflow.keras.losses import MeanSquaredError\n",
    "from tensorflow.keras.saving import load_model\n",
    "from skimage.morphology import disk"
   ]
  },
  {
   "cell_type": "code",
   "execution_count": 2,
   "metadata": {},
   "outputs": [
    {
     "name": "stdout",
     "output_type": "stream",
     "text": [
      "18998\n"
     ]
    }
   ],
   "source": [
    "train_ims = sorted(glob(os.path.join('.\\Train\\Train','*.jpg')))\n",
    "print(len(train_ims))"
   ]
  },
  {
   "cell_type": "code",
   "execution_count": 3,
   "metadata": {},
   "outputs": [
    {
     "name": "stdout",
     "output_type": "stream",
     "text": [
      "['.\\\\Train\\\\Train\\\\ISIC_0000000.jpg', '.\\\\Train\\\\Train\\\\ISIC_0000001.jpg', '.\\\\Train\\\\Train\\\\ISIC_0000002.jpg', '.\\\\Train\\\\Train\\\\ISIC_0000003.jpg', '.\\\\Train\\\\Train\\\\ISIC_0000004.jpg']\n"
     ]
    }
   ],
   "source": [
    "print(train_ims[:5])"
   ]
  },
  {
   "cell_type": "code",
   "execution_count": 4,
   "metadata": {},
   "outputs": [
    {
     "name": "stdout",
     "output_type": "stream",
     "text": [
      "1945\n"
     ]
    }
   ],
   "source": [
    "seg_ims = sorted(glob(os.path.join('.\\Train\\Train','*.png')))\n",
    "print(len(seg_ims))"
   ]
  },
  {
   "cell_type": "code",
   "execution_count": 5,
   "metadata": {},
   "outputs": [
    {
     "name": "stdout",
     "output_type": "stream",
     "text": [
      "['.\\\\Train\\\\Train\\\\ISIC_0000000.jpg', '.\\\\Train\\\\Train\\\\ISIC_0000001.jpg', '.\\\\Train\\\\Train\\\\ISIC_0000003.jpg', '.\\\\Train\\\\Train\\\\ISIC_0000004.jpg', '.\\\\Train\\\\Train\\\\ISIC_0000007.jpg']\n"
     ]
    }
   ],
   "source": [
    "for i in range(len(seg_ims)):\n",
    "    seg_ims[i] = seg_ims[i].replace('_seg.png','.jpg')\n",
    "print(seg_ims[:5])"
   ]
  },
  {
   "cell_type": "code",
   "execution_count": 6,
   "metadata": {},
   "outputs": [
    {
     "name": "stdout",
     "output_type": "stream",
     "text": [
      "['.\\\\Train\\\\Train\\\\ISIC_0000002.jpg' '.\\\\Train\\\\Train\\\\ISIC_0000010.jpg'\n",
      " '.\\\\Train\\\\Train\\\\ISIC_0000114.jpg' '.\\\\Train\\\\Train\\\\ISIC_0000118.jpg'\n",
      " '.\\\\Train\\\\Train\\\\ISIC_0000174.jpg']\n"
     ]
    }
   ],
   "source": [
    "undone_train = np.array([x for x in train_ims if x not in seg_ims])\n",
    "print(undone_train[:5])"
   ]
  },
  {
   "cell_type": "code",
   "execution_count": 7,
   "metadata": {},
   "outputs": [
    {
     "name": "stdout",
     "output_type": "stream",
     "text": [
      "6333\n",
      "['.\\\\Test\\\\Test\\\\ISIC_0000006.jpg', '.\\\\Test\\\\Test\\\\ISIC_0000011.jpg', '.\\\\Test\\\\Test\\\\ISIC_0000014.jpg', '.\\\\Test\\\\Test\\\\ISIC_0000018.jpg', '.\\\\Test\\\\Test\\\\ISIC_0000022.jpg']\n",
      "648\n",
      "['.\\\\Test\\\\Test\\\\ISIC_0000006.jpg', '.\\\\Test\\\\Test\\\\ISIC_0000011.jpg', '.\\\\Test\\\\Test\\\\ISIC_0000014.jpg', '.\\\\Test\\\\Test\\\\ISIC_0000018.jpg', '.\\\\Test\\\\Test\\\\ISIC_0000022.jpg']\n",
      "['.\\\\Test\\\\Test\\\\ISIC_0000130.jpg' '.\\\\Test\\\\Test\\\\ISIC_0000195.jpg'\n",
      " '.\\\\Test\\\\Test\\\\ISIC_0000551.jpg' '.\\\\Test\\\\Test\\\\ISIC_0003051.jpg'\n",
      " '.\\\\Test\\\\Test\\\\ISIC_0004166.jpg']\n"
     ]
    }
   ],
   "source": [
    "test_ims = sorted(glob(os.path.join('.\\Test\\Test','*.jpg')))\n",
    "print(len(test_ims))\n",
    "print(test_ims[:5])\n",
    "\n",
    "segtest_ims = sorted(glob(os.path.join('.\\Test\\Test','*.png')))\n",
    "print(len(segtest_ims))\n",
    "\n",
    "for i in range(len(segtest_ims)):\n",
    "    segtest_ims[i] = segtest_ims[i].replace('_seg.png','.jpg')\n",
    "print(segtest_ims[:5])\n",
    "\n",
    "undone_test = np.array([x for x in test_ims if x not in segtest_ims])\n",
    "print(undone_test[:5])"
   ]
  },
  {
   "cell_type": "code",
   "execution_count": 14,
   "metadata": {},
   "outputs": [
    {
     "name": "stdout",
     "output_type": "stream",
     "text": [
      "['./Train/Modified/ISIC_0000002.jpg', './Train/Modified/ISIC_0000010.jpg', './Train/Modified/ISIC_0000114.jpg', './Train/Modified/ISIC_0000118.jpg', './Train/Modified/ISIC_0000174.jpg']\n"
     ]
    }
   ],
   "source": [
    "filenametrain = []\n",
    "for i in range(len(undone_train)):\n",
    "    name = undone_train[i]\n",
    "    name = name.replace('.\\\\Train\\\\Train\\\\','./Train/Modified/')\n",
    "    filenametrain.append(name)\n",
    "print(filenametrain[:5])"
   ]
  },
  {
   "cell_type": "code",
   "execution_count": 9,
   "metadata": {},
   "outputs": [
    {
     "name": "stdout",
     "output_type": "stream",
     "text": [
      "['./Test/Modified/ISIC_0000130.jpg', './Test/Modified/ISIC_0000195.jpg', './Test/Modified/ISIC_0000551.jpg', './Test/Modified/ISIC_0003051.jpg', './Test/Modified/ISIC_0004166.jpg']\n"
     ]
    }
   ],
   "source": [
    "filenametest = []\n",
    "for i in range(len(undone_test)):\n",
    "    name = undone_test[i]\n",
    "    name = name.replace('.\\\\Test\\\\Test\\\\','./Test/Modified/')\n",
    "    filenametest.append(name)\n",
    "print(filenametest[:5])"
   ]
  },
  {
   "cell_type": "code",
   "execution_count": 19,
   "metadata": {},
   "outputs": [
    {
     "name": "stdout",
     "output_type": "stream",
     "text": [
      "0\n",
      "100\n",
      "200\n",
      "300\n",
      "400\n",
      "500\n",
      "600\n",
      "700\n",
      "800\n",
      "900\n",
      "1000\n",
      "1100\n",
      "1200\n",
      "1300\n",
      "1400\n",
      "1500\n",
      "1600\n",
      "1700\n",
      "1800\n",
      "1900\n",
      "2000\n",
      "2100\n",
      "2200\n",
      "2300\n",
      "2400\n",
      "2500\n",
      "2600\n",
      "2700\n",
      "2800\n",
      "2900\n",
      "3000\n",
      "3100\n"
     ]
    }
   ],
   "source": [
    "kernel = cv.getStructuringElement(1,(9,9))\n",
    "clahe = cv.createCLAHE(clipLimit=3.0, tileGridSize=(8,8))\n",
    "\n",
    "for i in range(len(undone_train)):\n",
    "    if i%100 ==0:\n",
    "        print(i)\n",
    "    im = cv.resize(cv.imread(undone_train[i],cv.IMREAD_GRAYSCALE),(512,384))\n",
    "    blackhat = cv.morphologyEx(im, cv.MORPH_BLACKHAT, kernel)\n",
    "\n",
    "    bhg= cv.GaussianBlur(blackhat,(3,3),cv.BORDER_DEFAULT)\n",
    "    _,mask = cv.threshold(bhg,1,255,cv.THRESH_BINARY)\n",
    "\n",
    "    dst = cv.inpaint(im,mask,6,cv.INPAINT_TELEA)\n",
    "\n",
    "    mask = cv.dilate((dst<15).astype(np.uint8),disk(30))\n",
    "    post = cv.inpaint(dst,mask,6,cv.INPAINT_TELEA)\n",
    "\n",
    "    fim = clahe.apply(post)\n",
    "    cv.imwrite(filenametrain[i],fim)"
   ]
  },
  {
   "cell_type": "code",
   "execution_count": 18,
   "metadata": {},
   "outputs": [
    {
     "name": "stdout",
     "output_type": "stream",
     "text": [
      "0\n",
      "100\n",
      "200\n",
      "300\n",
      "400\n",
      "500\n",
      "600\n",
      "700\n",
      "800\n",
      "900\n",
      "1000\n",
      "1100\n",
      "1200\n",
      "1300\n",
      "1400\n",
      "1500\n",
      "1600\n",
      "1700\n",
      "1800\n",
      "1900\n",
      "2000\n",
      "2100\n",
      "2200\n",
      "2300\n",
      "2400\n",
      "2500\n",
      "2600\n",
      "2700\n",
      "2800\n",
      "2900\n",
      "3000\n",
      "3100\n",
      "3200\n",
      "3300\n",
      "3400\n",
      "3500\n",
      "3600\n",
      "3700\n",
      "3800\n",
      "3900\n",
      "4000\n",
      "4100\n",
      "4200\n",
      "4300\n",
      "4400\n",
      "4500\n",
      "4600\n",
      "4700\n",
      "4800\n",
      "4900\n",
      "5000\n",
      "5100\n",
      "5200\n",
      "5300\n",
      "5400\n",
      "5500\n",
      "5600\n"
     ]
    }
   ],
   "source": [
    "for i in range(len(undone_test)):\n",
    "    if i%100 ==0:\n",
    "        print(i)\n",
    "    im = cv.resize(cv.imread(undone_test[i],cv.IMREAD_GRAYSCALE),(512,384))\n",
    "    blackhat = cv.morphologyEx(im, cv.MORPH_BLACKHAT, kernel)\n",
    "\n",
    "    bhg= cv.GaussianBlur(blackhat,(3,3),cv.BORDER_DEFAULT)\n",
    "    _,mask = cv.threshold(bhg,1,255,cv.THRESH_BINARY)\n",
    "\n",
    "    dst = cv.inpaint(im,mask,6,cv.INPAINT_TELEA)\n",
    "\n",
    "    mask = cv.dilate((dst<15).astype(np.uint8),disk(30))\n",
    "    post = cv.inpaint(dst,mask,6,cv.INPAINT_TELEA)\n",
    "\n",
    "    fim = clahe.apply(post)\n",
    "    cv.imwrite(filenametest[i],fim)"
   ]
  }
 ],
 "metadata": {
  "kernelspec": {
   "display_name": "Python 3",
   "language": "python",
   "name": "python3"
  },
  "language_info": {
   "codemirror_mode": {
    "name": "ipython",
    "version": 3
   },
   "file_extension": ".py",
   "mimetype": "text/x-python",
   "name": "python",
   "nbconvert_exporter": "python",
   "pygments_lexer": "ipython3",
   "version": "3.11.4"
  }
 },
 "nbformat": 4,
 "nbformat_minor": 2
}
