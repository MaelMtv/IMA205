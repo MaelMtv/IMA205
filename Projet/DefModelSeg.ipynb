{
 "cells": [
  {
   "cell_type": "code",
   "execution_count": 1,
   "metadata": {},
   "outputs": [
    {
     "name": "stdout",
     "output_type": "stream",
     "text": [
      "WARNING:tensorflow:From c:\\Users\\maelm\\AppData\\Local\\Programs\\Python\\Python311\\Lib\\site-packages\\keras\\src\\losses.py:2976: The name tf.losses.sparse_softmax_cross_entropy is deprecated. Please use tf.compat.v1.losses.sparse_softmax_cross_entropy instead.\n",
      "\n"
     ]
    }
   ],
   "source": [
    "import os\n",
    "import numpy as np\n",
    "from glob import glob\n",
    "import pandas as pd\n",
    "import matplotlib.pyplot as plt\n",
    "import cv2 as cv\n",
    "from tensorflow import keras\n",
    "from tensorflow.keras.models import Model\n",
    "from tensorflow.keras.layers import Input, Conv2D, Conv2DTranspose\n",
    "from tensorflow.keras import Sequential\n",
    "from tensorflow.keras.losses import MeanSquaredError\n",
    "from tensorflow.keras.saving import load_model\n",
    "from skimage.morphology import disk"
   ]
  },
  {
   "cell_type": "code",
   "execution_count": 2,
   "metadata": {},
   "outputs": [
    {
     "name": "stdout",
     "output_type": "stream",
     "text": [
      "1945\n"
     ]
    }
   ],
   "source": [
    "seg_train = sorted(glob(os.path.join('.\\Train\\Train','*.png')))\n",
    "print(len(seg_train))"
   ]
  },
  {
   "cell_type": "code",
   "execution_count": 3,
   "metadata": {},
   "outputs": [
    {
     "name": "stdout",
     "output_type": "stream",
     "text": [
      "648\n"
     ]
    }
   ],
   "source": [
    "seg_test = sorted(glob(os.path.join('.\\Test\\Test','*.png')))\n",
    "print(len(seg_test))"
   ]
  },
  {
   "cell_type": "code",
   "execution_count": 4,
   "metadata": {},
   "outputs": [
    {
     "name": "stdout",
     "output_type": "stream",
     "text": [
      "['.\\\\Train\\\\Train\\\\ISIC_0000000_seg.png', '.\\\\Train\\\\Train\\\\ISIC_0000001_seg.png', '.\\\\Train\\\\Train\\\\ISIC_0000003_seg.png', '.\\\\Train\\\\Train\\\\ISIC_0000004_seg.png', '.\\\\Train\\\\Train\\\\ISIC_0000007_seg.png']\n"
     ]
    }
   ],
   "source": [
    "print(seg_train[:5])"
   ]
  },
  {
   "cell_type": "code",
   "execution_count": 5,
   "metadata": {},
   "outputs": [
    {
     "name": "stdout",
     "output_type": "stream",
     "text": [
      "['.\\\\Test\\\\Test\\\\ISIC_0000006_seg.png', '.\\\\Test\\\\Test\\\\ISIC_0000011_seg.png', '.\\\\Test\\\\Test\\\\ISIC_0000014_seg.png', '.\\\\Test\\\\Test\\\\ISIC_0000018_seg.png', '.\\\\Test\\\\Test\\\\ISIC_0000022_seg.png']\n"
     ]
    }
   ],
   "source": [
    "print(seg_test[:5])"
   ]
  },
  {
   "cell_type": "code",
   "execution_count": 6,
   "metadata": {},
   "outputs": [],
   "source": [
    "train_ims = []\n",
    "for i in range(len(seg_train)):\n",
    "    name = seg_train[i]\n",
    "    name = name.replace('_seg.png','.jpg')\n",
    "    name = name.replace('.\\\\Train\\\\Train\\\\','./Train/Modified/')\n",
    "    train_ims.append(name)"
   ]
  },
  {
   "cell_type": "code",
   "execution_count": 7,
   "metadata": {},
   "outputs": [],
   "source": [
    "test_ims = []\n",
    "for i in range(len(seg_test)):\n",
    "    name = seg_test[i]\n",
    "    name = name.replace('_seg.png','.jpg')\n",
    "    name = name.replace('.\\\\Test\\\\Test\\\\','./Test/Modified/')\n",
    "    test_ims.append(name)"
   ]
  },
  {
   "cell_type": "code",
   "execution_count": 8,
   "metadata": {},
   "outputs": [
    {
     "name": "stdout",
     "output_type": "stream",
     "text": [
      "['./Test/Modified/ISIC_0000006.jpg', './Test/Modified/ISIC_0000011.jpg', './Test/Modified/ISIC_0000014.jpg', './Test/Modified/ISIC_0000018.jpg', './Test/Modified/ISIC_0000022.jpg']\n"
     ]
    }
   ],
   "source": [
    "print(test_ims[:5])"
   ]
  },
  {
   "cell_type": "code",
   "execution_count": 9,
   "metadata": {},
   "outputs": [
    {
     "name": "stdout",
     "output_type": "stream",
     "text": [
      "['./Train/Modified/ISIC_0000000.jpg', './Train/Modified/ISIC_0000001.jpg', './Train/Modified/ISIC_0000003.jpg', './Train/Modified/ISIC_0000004.jpg', './Train/Modified/ISIC_0000007.jpg']\n"
     ]
    }
   ],
   "source": [
    "print(train_ims[:5])"
   ]
  },
  {
   "cell_type": "code",
   "execution_count": 10,
   "metadata": {},
   "outputs": [
    {
     "name": "stdout",
     "output_type": "stream",
     "text": [
      "WARNING:tensorflow:From c:\\Users\\maelm\\AppData\\Local\\Programs\\Python\\Python311\\Lib\\site-packages\\keras\\src\\backend.py:1398: The name tf.executing_eagerly_outside_functions is deprecated. Please use tf.compat.v1.executing_eagerly_outside_functions instead.\n",
      "\n",
      "Model: \"model\"\n",
      "_________________________________________________________________\n",
      " Layer (type)                Output Shape              Param #   \n",
      "=================================================================\n",
      " input (InputLayer)          [(None, 384, 512, 1)]     0         \n",
      "                                                                 \n",
      " conv2d (Conv2D)             (None, 192, 256, 16)      160       \n",
      "                                                                 \n",
      " conv2d_1 (Conv2D)           (None, 96, 128, 8)        1160      \n",
      "                                                                 \n",
      " conv2d_2 (Conv2D)           (None, 48, 64, 4)         292       \n",
      "                                                                 \n",
      " conv2d_transpose (Conv2DTr  (None, 96, 128, 4)        148       \n",
      " anspose)                                                        \n",
      "                                                                 \n",
      " conv2d_transpose_1 (Conv2D  (None, 192, 256, 8)       296       \n",
      " Transpose)                                                      \n",
      "                                                                 \n",
      " conv2d_transpose_2 (Conv2D  (None, 384, 512, 16)      1168      \n",
      " Transpose)                                                      \n",
      "                                                                 \n",
      " conv2d_3 (Conv2D)           (None, 384, 512, 1)       145       \n",
      "                                                                 \n",
      "=================================================================\n",
      "Total params: 3369 (13.16 KB)\n",
      "Trainable params: 3369 (13.16 KB)\n",
      "Non-trainable params: 0 (0.00 Byte)\n",
      "_________________________________________________________________\n"
     ]
    }
   ],
   "source": [
    "in_layer = Input((384,512,1), name='input')\n",
    "conv1 = Conv2D(16, (3, 3), activation='relu', padding='same', strides=2)(in_layer)\n",
    "conv2 = Conv2D(8, (3, 3), activation='relu', padding='same', strides=2)(conv1)\n",
    "conv3 = Conv2D(4, (3, 3), activation='relu', padding='same', strides=2)(conv2)\n",
    "conv4 = Conv2DTranspose(4, kernel_size=3, strides=2, activation='relu', padding='same')(conv3)\n",
    "conv5 = Conv2DTranspose(8, kernel_size=3, strides=2, activation='relu', padding='same')(conv4)\n",
    "conv6 = Conv2DTranspose(16, kernel_size=3, strides=2, activation='relu', padding='same')(conv5)\n",
    "out_layer = Conv2D(1, kernel_size=(3, 3), activation='sigmoid', padding='same')(conv6)\n",
    "\n",
    "autoencoder = keras.Model(in_layer,out_layer)\n",
    "autoencoder.summary()"
   ]
  },
  {
   "cell_type": "code",
   "execution_count": 11,
   "metadata": {},
   "outputs": [
    {
     "name": "stdout",
     "output_type": "stream",
     "text": [
      "WARNING:tensorflow:From c:\\Users\\maelm\\AppData\\Local\\Programs\\Python\\Python311\\Lib\\site-packages\\keras\\src\\optimizers\\__init__.py:309: The name tf.train.Optimizer is deprecated. Please use tf.compat.v1.train.Optimizer instead.\n",
      "\n"
     ]
    }
   ],
   "source": [
    "autoencoder.compile(optimizer='adam', loss=MeanSquaredError())"
   ]
  },
  {
   "cell_type": "code",
   "execution_count": 12,
   "metadata": {},
   "outputs": [],
   "source": [
    "train_ims = np.array([cv.resize(cv.imread(x,cv.IMREAD_GRAYSCALE),(512,384))/255 for x in train_ims])\n",
    "train_masks = np.array([cv.resize(cv.imread(x,cv.IMREAD_GRAYSCALE),(512,384))/255 for x in seg_train])\n",
    "\n",
    "test_ims = np.array([cv.resize(cv.imread(x,cv.IMREAD_GRAYSCALE),(512,384))/255 for x in test_ims])\n",
    "test_masks = np.array([cv.resize(cv.imread(x,cv.IMREAD_GRAYSCALE),(512,384))/255 for x in seg_test])"
   ]
  },
  {
   "cell_type": "code",
   "execution_count": 13,
   "metadata": {},
   "outputs": [
    {
     "name": "stdout",
     "output_type": "stream",
     "text": [
      "(1945, 384, 512)\n",
      "(648, 384, 512)\n",
      "(1945, 384, 512)\n",
      "(648, 384, 512)\n"
     ]
    }
   ],
   "source": [
    "print(train_ims.shape)\n",
    "print(test_ims.shape)\n",
    "print(train_masks.shape)\n",
    "print(test_masks.shape)"
   ]
  },
  {
   "cell_type": "code",
   "execution_count": 14,
   "metadata": {},
   "outputs": [],
   "source": [
    "data = train_ims.reshape((1945,384,512,1))\n",
    "masks = train_masks.reshape((1945,384,512,1))"
   ]
  },
  {
   "cell_type": "code",
   "execution_count": 15,
   "metadata": {},
   "outputs": [],
   "source": [
    "test_data = test_ims.reshape((648,384,512,1))\n",
    "test_masks = test_masks.reshape((648,384,512,1))"
   ]
  },
  {
   "cell_type": "code",
   "execution_count": 17,
   "metadata": {},
   "outputs": [
    {
     "name": "stdout",
     "output_type": "stream",
     "text": [
      "Epoch 1/10\n",
      "WARNING:tensorflow:From c:\\Users\\maelm\\AppData\\Local\\Programs\\Python\\Python311\\Lib\\site-packages\\keras\\src\\utils\\tf_utils.py:492: The name tf.ragged.RaggedTensorValue is deprecated. Please use tf.compat.v1.ragged.RaggedTensorValue instead.\n",
      "\n",
      "61/61 [==============================] - 457s 7s/step - loss: 0.1972 - val_loss: 0.1597\n",
      "Epoch 2/10\n",
      "61/61 [==============================] - 248s 4s/step - loss: 0.1550 - val_loss: 0.1483\n",
      "Epoch 3/10\n",
      "61/61 [==============================] - 342s 6s/step - loss: 0.1426 - val_loss: 0.1359\n",
      "Epoch 4/10\n",
      "61/61 [==============================] - 184s 3s/step - loss: 0.1364 - val_loss: 0.1333\n",
      "Epoch 5/10\n",
      "61/61 [==============================] - 160s 3s/step - loss: 0.1359 - val_loss: 0.1343\n",
      "Epoch 6/10\n",
      "61/61 [==============================] - 148s 2s/step - loss: 0.1348 - val_loss: 0.1317\n",
      "Epoch 7/10\n",
      "61/61 [==============================] - 151s 2s/step - loss: 0.1340 - val_loss: 0.1307\n",
      "Epoch 8/10\n",
      "61/61 [==============================] - 142s 2s/step - loss: 0.1333 - val_loss: 0.1299\n",
      "Epoch 9/10\n",
      "61/61 [==============================] - 134s 2s/step - loss: 0.1320 - val_loss: 0.1291\n",
      "Epoch 10/10\n",
      "61/61 [==============================] - 149s 2s/step - loss: 0.1319 - val_loss: 0.1285\n"
     ]
    }
   ],
   "source": [
    "h = autoencoder.fit(data,masks,epochs=10,batch_size=32,verbose=1,shuffle=True,validation_data=(test_data,test_masks))"
   ]
  },
  {
   "cell_type": "code",
   "execution_count": 18,
   "metadata": {},
   "outputs": [],
   "source": [
    "autoencoder.save('autoencoder_seg.keras')"
   ]
  },
  {
   "cell_type": "code",
   "execution_count": 19,
   "metadata": {},
   "outputs": [
    {
     "name": "stdout",
     "output_type": "stream",
     "text": [
      "Model: \"model\"\n",
      "_________________________________________________________________\n",
      " Layer (type)                Output Shape              Param #   \n",
      "=================================================================\n",
      " input (InputLayer)          [(None, 384, 512, 1)]     0         \n",
      "                                                                 \n",
      " conv2d (Conv2D)             (None, 192, 256, 16)      160       \n",
      "                                                                 \n",
      " conv2d_1 (Conv2D)           (None, 96, 128, 8)        1160      \n",
      "                                                                 \n",
      " conv2d_2 (Conv2D)           (None, 48, 64, 4)         292       \n",
      "                                                                 \n",
      " conv2d_transpose (Conv2DTr  (None, 96, 128, 4)        148       \n",
      " anspose)                                                        \n",
      "                                                                 \n",
      " conv2d_transpose_1 (Conv2D  (None, 192, 256, 8)       296       \n",
      " Transpose)                                                      \n",
      "                                                                 \n",
      " conv2d_transpose_2 (Conv2D  (None, 384, 512, 16)      1168      \n",
      " Transpose)                                                      \n",
      "                                                                 \n",
      " conv2d_3 (Conv2D)           (None, 384, 512, 1)       145       \n",
      "                                                                 \n",
      "=================================================================\n",
      "Total params: 3369 (13.16 KB)\n",
      "Trainable params: 3369 (13.16 KB)\n",
      "Non-trainable params: 0 (0.00 Byte)\n",
      "_________________________________________________________________\n"
     ]
    }
   ],
   "source": [
    "autoencoder = load_model(\"autoencoder_seg.keras\")\n",
    "autoencoder.summary()"
   ]
  }
 ],
 "metadata": {
  "kernelspec": {
   "display_name": "Python 3",
   "language": "python",
   "name": "python3"
  },
  "language_info": {
   "codemirror_mode": {
    "name": "ipython",
    "version": 3
   },
   "file_extension": ".py",
   "mimetype": "text/x-python",
   "name": "python",
   "nbconvert_exporter": "python",
   "pygments_lexer": "ipython3",
   "version": "3.11.4"
  }
 },
 "nbformat": 4,
 "nbformat_minor": 2
}
