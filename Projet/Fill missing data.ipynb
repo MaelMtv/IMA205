{
 "cells": [
  {
   "cell_type": "code",
   "execution_count": 1,
   "metadata": {},
   "outputs": [],
   "source": [
    "import pandas as pd\n",
    "import numpy as np"
   ]
  },
  {
   "cell_type": "code",
   "execution_count": 135,
   "metadata": {},
   "outputs": [
    {
     "data": {
      "text/html": [
       "<div>\n",
       "<style scoped>\n",
       "    .dataframe tbody tr th:only-of-type {\n",
       "        vertical-align: middle;\n",
       "    }\n",
       "\n",
       "    .dataframe tbody tr th {\n",
       "        vertical-align: top;\n",
       "    }\n",
       "\n",
       "    .dataframe thead th {\n",
       "        text-align: right;\n",
       "    }\n",
       "</style>\n",
       "<table border=\"1\" class=\"dataframe\">\n",
       "  <thead>\n",
       "    <tr style=\"text-align: right;\">\n",
       "      <th></th>\n",
       "      <th>ID</th>\n",
       "      <th>CLASS</th>\n",
       "      <th>SEX</th>\n",
       "      <th>AGE</th>\n",
       "      <th>POSITION</th>\n",
       "    </tr>\n",
       "  </thead>\n",
       "  <tbody>\n",
       "    <tr>\n",
       "      <th>0</th>\n",
       "      <td>ISIC_0000000</td>\n",
       "      <td>2</td>\n",
       "      <td>female</td>\n",
       "      <td>55.0</td>\n",
       "      <td>anterior torso</td>\n",
       "    </tr>\n",
       "    <tr>\n",
       "      <th>1</th>\n",
       "      <td>ISIC_0000001</td>\n",
       "      <td>2</td>\n",
       "      <td>female</td>\n",
       "      <td>30.0</td>\n",
       "      <td>anterior torso</td>\n",
       "    </tr>\n",
       "    <tr>\n",
       "      <th>2</th>\n",
       "      <td>ISIC_0000002</td>\n",
       "      <td>1</td>\n",
       "      <td>female</td>\n",
       "      <td>60.0</td>\n",
       "      <td>upper extremity</td>\n",
       "    </tr>\n",
       "    <tr>\n",
       "      <th>3</th>\n",
       "      <td>ISIC_0000003</td>\n",
       "      <td>2</td>\n",
       "      <td>male</td>\n",
       "      <td>30.0</td>\n",
       "      <td>upper extremity</td>\n",
       "    </tr>\n",
       "    <tr>\n",
       "      <th>4</th>\n",
       "      <td>ISIC_0000004</td>\n",
       "      <td>1</td>\n",
       "      <td>male</td>\n",
       "      <td>80.0</td>\n",
       "      <td>posterior torso</td>\n",
       "    </tr>\n",
       "  </tbody>\n",
       "</table>\n",
       "</div>"
      ],
      "text/plain": [
       "             ID  CLASS     SEX   AGE         POSITION\n",
       "0  ISIC_0000000      2  female  55.0   anterior torso\n",
       "1  ISIC_0000001      2  female  30.0   anterior torso\n",
       "2  ISIC_0000002      1  female  60.0  upper extremity\n",
       "3  ISIC_0000003      2    male  30.0  upper extremity\n",
       "4  ISIC_0000004      1    male  80.0  posterior torso"
      ]
     },
     "execution_count": 135,
     "metadata": {},
     "output_type": "execute_result"
    }
   ],
   "source": [
    "train_data = pd.read_csv('./metadataTrain.csv')\n",
    "train_data.head()"
   ]
  },
  {
   "cell_type": "code",
   "execution_count": 136,
   "metadata": {},
   "outputs": [
    {
     "name": "stdout",
     "output_type": "stream",
     "text": [
      "ID          284\n",
      "CLASS       284\n",
      "SEX           0\n",
      "AGE           0\n",
      "POSITION    124\n",
      "dtype: int64\n"
     ]
    },
    {
     "data": {
      "text/html": [
       "<div>\n",
       "<style scoped>\n",
       "    .dataframe tbody tr th:only-of-type {\n",
       "        vertical-align: middle;\n",
       "    }\n",
       "\n",
       "    .dataframe tbody tr th {\n",
       "        vertical-align: top;\n",
       "    }\n",
       "\n",
       "    .dataframe thead th {\n",
       "        text-align: right;\n",
       "    }\n",
       "</style>\n",
       "<table border=\"1\" class=\"dataframe\">\n",
       "  <thead>\n",
       "    <tr style=\"text-align: right;\">\n",
       "      <th></th>\n",
       "      <th>ID</th>\n",
       "      <th>CLASS</th>\n",
       "      <th>SEX</th>\n",
       "      <th>AGE</th>\n",
       "      <th>POSITION</th>\n",
       "    </tr>\n",
       "  </thead>\n",
       "  <tbody>\n",
       "    <tr>\n",
       "      <th>55</th>\n",
       "      <td>ISIC_0000080</td>\n",
       "      <td>2</td>\n",
       "      <td>NaN</td>\n",
       "      <td>NaN</td>\n",
       "      <td>NaN</td>\n",
       "    </tr>\n",
       "    <tr>\n",
       "      <th>56</th>\n",
       "      <td>ISIC_0000081</td>\n",
       "      <td>2</td>\n",
       "      <td>NaN</td>\n",
       "      <td>NaN</td>\n",
       "      <td>NaN</td>\n",
       "    </tr>\n",
       "    <tr>\n",
       "      <th>57</th>\n",
       "      <td>ISIC_0000086</td>\n",
       "      <td>2</td>\n",
       "      <td>NaN</td>\n",
       "      <td>NaN</td>\n",
       "      <td>NaN</td>\n",
       "    </tr>\n",
       "    <tr>\n",
       "      <th>58</th>\n",
       "      <td>ISIC_0000087</td>\n",
       "      <td>2</td>\n",
       "      <td>NaN</td>\n",
       "      <td>NaN</td>\n",
       "      <td>NaN</td>\n",
       "    </tr>\n",
       "    <tr>\n",
       "      <th>59</th>\n",
       "      <td>ISIC_0000088</td>\n",
       "      <td>2</td>\n",
       "      <td>NaN</td>\n",
       "      <td>NaN</td>\n",
       "      <td>NaN</td>\n",
       "    </tr>\n",
       "  </tbody>\n",
       "</table>\n",
       "</div>"
      ],
      "text/plain": [
       "              ID  CLASS  SEX  AGE POSITION\n",
       "55  ISIC_0000080      2  NaN  NaN      NaN\n",
       "56  ISIC_0000081      2  NaN  NaN      NaN\n",
       "57  ISIC_0000086      2  NaN  NaN      NaN\n",
       "58  ISIC_0000087      2  NaN  NaN      NaN\n",
       "59  ISIC_0000088      2  NaN  NaN      NaN"
      ]
     },
     "execution_count": 136,
     "metadata": {},
     "output_type": "execute_result"
    }
   ],
   "source": [
    "missing_sex = train_data[train_data['SEX'].isna()]\n",
    "print(missing_sex.count())\n",
    "missing_sex.head()\n"
   ]
  },
  {
   "cell_type": "code",
   "execution_count": 137,
   "metadata": {},
   "outputs": [
    {
     "name": "stdout",
     "output_type": "stream",
     "text": [
      "ID          18714\n",
      "CLASS       18714\n",
      "SEX         18714\n",
      "AGE         18674\n",
      "POSITION    16904\n",
      "dtype: int64\n"
     ]
    },
    {
     "data": {
      "text/html": [
       "<div>\n",
       "<style scoped>\n",
       "    .dataframe tbody tr th:only-of-type {\n",
       "        vertical-align: middle;\n",
       "    }\n",
       "\n",
       "    .dataframe tbody tr th {\n",
       "        vertical-align: top;\n",
       "    }\n",
       "\n",
       "    .dataframe thead th {\n",
       "        text-align: right;\n",
       "    }\n",
       "</style>\n",
       "<table border=\"1\" class=\"dataframe\">\n",
       "  <thead>\n",
       "    <tr style=\"text-align: right;\">\n",
       "      <th></th>\n",
       "      <th>ID</th>\n",
       "      <th>CLASS</th>\n",
       "      <th>SEX</th>\n",
       "      <th>AGE</th>\n",
       "      <th>POSITION</th>\n",
       "    </tr>\n",
       "  </thead>\n",
       "  <tbody>\n",
       "    <tr>\n",
       "      <th>0</th>\n",
       "      <td>ISIC_0000000</td>\n",
       "      <td>2</td>\n",
       "      <td>female</td>\n",
       "      <td>55.0</td>\n",
       "      <td>anterior torso</td>\n",
       "    </tr>\n",
       "    <tr>\n",
       "      <th>1</th>\n",
       "      <td>ISIC_0000001</td>\n",
       "      <td>2</td>\n",
       "      <td>female</td>\n",
       "      <td>30.0</td>\n",
       "      <td>anterior torso</td>\n",
       "    </tr>\n",
       "    <tr>\n",
       "      <th>2</th>\n",
       "      <td>ISIC_0000002</td>\n",
       "      <td>1</td>\n",
       "      <td>female</td>\n",
       "      <td>60.0</td>\n",
       "      <td>upper extremity</td>\n",
       "    </tr>\n",
       "    <tr>\n",
       "      <th>3</th>\n",
       "      <td>ISIC_0000003</td>\n",
       "      <td>2</td>\n",
       "      <td>male</td>\n",
       "      <td>30.0</td>\n",
       "      <td>upper extremity</td>\n",
       "    </tr>\n",
       "    <tr>\n",
       "      <th>4</th>\n",
       "      <td>ISIC_0000004</td>\n",
       "      <td>1</td>\n",
       "      <td>male</td>\n",
       "      <td>80.0</td>\n",
       "      <td>posterior torso</td>\n",
       "    </tr>\n",
       "  </tbody>\n",
       "</table>\n",
       "</div>"
      ],
      "text/plain": [
       "             ID  CLASS     SEX   AGE         POSITION\n",
       "0  ISIC_0000000      2  female  55.0   anterior torso\n",
       "1  ISIC_0000001      2  female  30.0   anterior torso\n",
       "2  ISIC_0000002      1  female  60.0  upper extremity\n",
       "3  ISIC_0000003      2    male  30.0  upper extremity\n",
       "4  ISIC_0000004      1    male  80.0  posterior torso"
      ]
     },
     "execution_count": 137,
     "metadata": {},
     "output_type": "execute_result"
    }
   ],
   "source": [
    "sex = train_data[train_data['SEX'].isin(['male','female'])]\n",
    "print(sex.count())\n",
    "sex.head()"
   ]
  },
  {
   "cell_type": "code",
   "execution_count": 138,
   "metadata": {},
   "outputs": [
    {
     "name": "stdout",
     "output_type": "stream",
     "text": [
      "ID          8736\n",
      "CLASS       8736\n",
      "SEX         8736\n",
      "AGE         8716\n",
      "POSITION    7887\n",
      "dtype: int64\n"
     ]
    },
    {
     "data": {
      "text/html": [
       "<div>\n",
       "<style scoped>\n",
       "    .dataframe tbody tr th:only-of-type {\n",
       "        vertical-align: middle;\n",
       "    }\n",
       "\n",
       "    .dataframe tbody tr th {\n",
       "        vertical-align: top;\n",
       "    }\n",
       "\n",
       "    .dataframe thead th {\n",
       "        text-align: right;\n",
       "    }\n",
       "</style>\n",
       "<table border=\"1\" class=\"dataframe\">\n",
       "  <thead>\n",
       "    <tr style=\"text-align: right;\">\n",
       "      <th></th>\n",
       "      <th>ID</th>\n",
       "      <th>CLASS</th>\n",
       "      <th>SEX</th>\n",
       "      <th>AGE</th>\n",
       "      <th>POSITION</th>\n",
       "    </tr>\n",
       "  </thead>\n",
       "  <tbody>\n",
       "    <tr>\n",
       "      <th>0</th>\n",
       "      <td>ISIC_0000000</td>\n",
       "      <td>2</td>\n",
       "      <td>female</td>\n",
       "      <td>55.0</td>\n",
       "      <td>anterior torso</td>\n",
       "    </tr>\n",
       "    <tr>\n",
       "      <th>1</th>\n",
       "      <td>ISIC_0000001</td>\n",
       "      <td>2</td>\n",
       "      <td>female</td>\n",
       "      <td>30.0</td>\n",
       "      <td>anterior torso</td>\n",
       "    </tr>\n",
       "    <tr>\n",
       "      <th>2</th>\n",
       "      <td>ISIC_0000002</td>\n",
       "      <td>1</td>\n",
       "      <td>female</td>\n",
       "      <td>60.0</td>\n",
       "      <td>upper extremity</td>\n",
       "    </tr>\n",
       "    <tr>\n",
       "      <th>5</th>\n",
       "      <td>ISIC_0000007</td>\n",
       "      <td>2</td>\n",
       "      <td>female</td>\n",
       "      <td>25.0</td>\n",
       "      <td>posterior torso</td>\n",
       "    </tr>\n",
       "    <tr>\n",
       "      <th>6</th>\n",
       "      <td>ISIC_0000008</td>\n",
       "      <td>2</td>\n",
       "      <td>female</td>\n",
       "      <td>30.0</td>\n",
       "      <td>anterior torso</td>\n",
       "    </tr>\n",
       "  </tbody>\n",
       "</table>\n",
       "</div>"
      ],
      "text/plain": [
       "             ID  CLASS     SEX   AGE         POSITION\n",
       "0  ISIC_0000000      2  female  55.0   anterior torso\n",
       "1  ISIC_0000001      2  female  30.0   anterior torso\n",
       "2  ISIC_0000002      1  female  60.0  upper extremity\n",
       "5  ISIC_0000007      2  female  25.0  posterior torso\n",
       "6  ISIC_0000008      2  female  30.0   anterior torso"
      ]
     },
     "execution_count": 138,
     "metadata": {},
     "output_type": "execute_result"
    }
   ],
   "source": [
    "fem = sex[sex['SEX']=='female']\n",
    "print(fem.count())\n",
    "fem.head()"
   ]
  },
  {
   "cell_type": "code",
   "execution_count": 139,
   "metadata": {},
   "outputs": [
    {
     "name": "stdout",
     "output_type": "stream",
     "text": [
      "ID          9978\n",
      "CLASS       9978\n",
      "SEX         9978\n",
      "AGE         9958\n",
      "POSITION    9017\n",
      "dtype: int64\n"
     ]
    },
    {
     "data": {
      "text/html": [
       "<div>\n",
       "<style scoped>\n",
       "    .dataframe tbody tr th:only-of-type {\n",
       "        vertical-align: middle;\n",
       "    }\n",
       "\n",
       "    .dataframe tbody tr th {\n",
       "        vertical-align: top;\n",
       "    }\n",
       "\n",
       "    .dataframe thead th {\n",
       "        text-align: right;\n",
       "    }\n",
       "</style>\n",
       "<table border=\"1\" class=\"dataframe\">\n",
       "  <thead>\n",
       "    <tr style=\"text-align: right;\">\n",
       "      <th></th>\n",
       "      <th>ID</th>\n",
       "      <th>CLASS</th>\n",
       "      <th>SEX</th>\n",
       "      <th>AGE</th>\n",
       "      <th>POSITION</th>\n",
       "    </tr>\n",
       "  </thead>\n",
       "  <tbody>\n",
       "    <tr>\n",
       "      <th>3</th>\n",
       "      <td>ISIC_0000003</td>\n",
       "      <td>2</td>\n",
       "      <td>male</td>\n",
       "      <td>30.0</td>\n",
       "      <td>upper extremity</td>\n",
       "    </tr>\n",
       "    <tr>\n",
       "      <th>4</th>\n",
       "      <td>ISIC_0000004</td>\n",
       "      <td>1</td>\n",
       "      <td>male</td>\n",
       "      <td>80.0</td>\n",
       "      <td>posterior torso</td>\n",
       "    </tr>\n",
       "    <tr>\n",
       "      <th>9</th>\n",
       "      <td>ISIC_0000012</td>\n",
       "      <td>2</td>\n",
       "      <td>male</td>\n",
       "      <td>30.0</td>\n",
       "      <td>posterior torso</td>\n",
       "    </tr>\n",
       "    <tr>\n",
       "      <th>11</th>\n",
       "      <td>ISIC_0000015</td>\n",
       "      <td>2</td>\n",
       "      <td>male</td>\n",
       "      <td>35.0</td>\n",
       "      <td>posterior torso</td>\n",
       "    </tr>\n",
       "    <tr>\n",
       "      <th>21</th>\n",
       "      <td>ISIC_0000028</td>\n",
       "      <td>2</td>\n",
       "      <td>male</td>\n",
       "      <td>60.0</td>\n",
       "      <td>anterior torso</td>\n",
       "    </tr>\n",
       "  </tbody>\n",
       "</table>\n",
       "</div>"
      ],
      "text/plain": [
       "              ID  CLASS   SEX   AGE         POSITION\n",
       "3   ISIC_0000003      2  male  30.0  upper extremity\n",
       "4   ISIC_0000004      1  male  80.0  posterior torso\n",
       "9   ISIC_0000012      2  male  30.0  posterior torso\n",
       "11  ISIC_0000015      2  male  35.0  posterior torso\n",
       "21  ISIC_0000028      2  male  60.0   anterior torso"
      ]
     },
     "execution_count": 139,
     "metadata": {},
     "output_type": "execute_result"
    }
   ],
   "source": [
    "mal = sex[sex['SEX']=='male']\n",
    "print(mal.count())\n",
    "mal.head()"
   ]
  },
  {
   "cell_type": "code",
   "execution_count": 140,
   "metadata": {},
   "outputs": [
    {
     "name": "stdout",
     "output_type": "stream",
     "text": [
      "0.5331837127284386\n"
     ]
    }
   ],
   "source": [
    "male_prob = mal['ID'].count()/sex['ID'].count()\n",
    "print(male_prob)"
   ]
  },
  {
   "cell_type": "code",
   "execution_count": 141,
   "metadata": {},
   "outputs": [
    {
     "data": {
      "text/html": [
       "<div>\n",
       "<style scoped>\n",
       "    .dataframe tbody tr th:only-of-type {\n",
       "        vertical-align: middle;\n",
       "    }\n",
       "\n",
       "    .dataframe tbody tr th {\n",
       "        vertical-align: top;\n",
       "    }\n",
       "\n",
       "    .dataframe thead th {\n",
       "        text-align: right;\n",
       "    }\n",
       "</style>\n",
       "<table border=\"1\" class=\"dataframe\">\n",
       "  <thead>\n",
       "    <tr style=\"text-align: right;\">\n",
       "      <th></th>\n",
       "      <th>ID</th>\n",
       "      <th>CLASS</th>\n",
       "      <th>SEX</th>\n",
       "      <th>AGE</th>\n",
       "      <th>POSITION</th>\n",
       "    </tr>\n",
       "  </thead>\n",
       "  <tbody>\n",
       "    <tr>\n",
       "      <th>0</th>\n",
       "      <td>ISIC_0000000</td>\n",
       "      <td>2</td>\n",
       "      <td>female</td>\n",
       "      <td>55.0</td>\n",
       "      <td>anterior torso</td>\n",
       "    </tr>\n",
       "    <tr>\n",
       "      <th>1</th>\n",
       "      <td>ISIC_0000001</td>\n",
       "      <td>2</td>\n",
       "      <td>female</td>\n",
       "      <td>30.0</td>\n",
       "      <td>anterior torso</td>\n",
       "    </tr>\n",
       "    <tr>\n",
       "      <th>2</th>\n",
       "      <td>ISIC_0000002</td>\n",
       "      <td>1</td>\n",
       "      <td>female</td>\n",
       "      <td>60.0</td>\n",
       "      <td>upper extremity</td>\n",
       "    </tr>\n",
       "    <tr>\n",
       "      <th>3</th>\n",
       "      <td>ISIC_0000003</td>\n",
       "      <td>2</td>\n",
       "      <td>male</td>\n",
       "      <td>30.0</td>\n",
       "      <td>upper extremity</td>\n",
       "    </tr>\n",
       "    <tr>\n",
       "      <th>4</th>\n",
       "      <td>ISIC_0000004</td>\n",
       "      <td>1</td>\n",
       "      <td>male</td>\n",
       "      <td>80.0</td>\n",
       "      <td>posterior torso</td>\n",
       "    </tr>\n",
       "  </tbody>\n",
       "</table>\n",
       "</div>"
      ],
      "text/plain": [
       "             ID  CLASS     SEX   AGE         POSITION\n",
       "0  ISIC_0000000      2  female  55.0   anterior torso\n",
       "1  ISIC_0000001      2  female  30.0   anterior torso\n",
       "2  ISIC_0000002      1  female  60.0  upper extremity\n",
       "3  ISIC_0000003      2    male  30.0  upper extremity\n",
       "4  ISIC_0000004      1    male  80.0  posterior torso"
      ]
     },
     "execution_count": 141,
     "metadata": {},
     "output_type": "execute_result"
    }
   ],
   "source": [
    "def f(x):\n",
    "    if x in ['male','female']:\n",
    "        return x\n",
    "    else:\n",
    "        p = np.random.random()\n",
    "        if p>male_prob:\n",
    "            return 'female'\n",
    "        else:\n",
    "            return 'male'\n",
    "    \n",
    "train_data['SEX'] = train_data['SEX'].map(f)\n",
    "train_data.head()"
   ]
  },
  {
   "cell_type": "code",
   "execution_count": 142,
   "metadata": {},
   "outputs": [
    {
     "data": {
      "text/plain": [
       "ID          18674\n",
       "CLASS       18674\n",
       "SEX         18674\n",
       "AGE         18674\n",
       "POSITION    16866\n",
       "dtype: int64"
      ]
     },
     "execution_count": 142,
     "metadata": {},
     "output_type": "execute_result"
    }
   ],
   "source": [
    "age = train_data[train_data['AGE'].notna()]\n",
    "age.count()"
   ]
  },
  {
   "cell_type": "code",
   "execution_count": 143,
   "metadata": {},
   "outputs": [
    {
     "name": "stdout",
     "output_type": "stream",
     "text": [
      "[55. 30. 60. ... 45. 65. 55.]\n",
      "0.0 85.0\n",
      "14\n"
     ]
    }
   ],
   "source": [
    "agenp = age['AGE'].to_numpy()\n",
    "print(agenp)\n",
    "min_age = np.min(agenp)\n",
    "max_age = np.max(agenp)\n",
    "print(min_age,max_age)\n",
    "print(np.random.randint(min_age,max_age+1))"
   ]
  },
  {
   "cell_type": "code",
   "execution_count": 144,
   "metadata": {},
   "outputs": [
    {
     "data": {
      "text/html": [
       "<div>\n",
       "<style scoped>\n",
       "    .dataframe tbody tr th:only-of-type {\n",
       "        vertical-align: middle;\n",
       "    }\n",
       "\n",
       "    .dataframe tbody tr th {\n",
       "        vertical-align: top;\n",
       "    }\n",
       "\n",
       "    .dataframe thead th {\n",
       "        text-align: right;\n",
       "    }\n",
       "</style>\n",
       "<table border=\"1\" class=\"dataframe\">\n",
       "  <thead>\n",
       "    <tr style=\"text-align: right;\">\n",
       "      <th></th>\n",
       "      <th>ID</th>\n",
       "      <th>CLASS</th>\n",
       "      <th>SEX</th>\n",
       "      <th>AGE</th>\n",
       "      <th>POSITION</th>\n",
       "    </tr>\n",
       "  </thead>\n",
       "  <tbody>\n",
       "    <tr>\n",
       "      <th>0</th>\n",
       "      <td>ISIC_0000000</td>\n",
       "      <td>2</td>\n",
       "      <td>female</td>\n",
       "      <td>55.0</td>\n",
       "      <td>anterior torso</td>\n",
       "    </tr>\n",
       "    <tr>\n",
       "      <th>1</th>\n",
       "      <td>ISIC_0000001</td>\n",
       "      <td>2</td>\n",
       "      <td>female</td>\n",
       "      <td>30.0</td>\n",
       "      <td>anterior torso</td>\n",
       "    </tr>\n",
       "    <tr>\n",
       "      <th>2</th>\n",
       "      <td>ISIC_0000002</td>\n",
       "      <td>1</td>\n",
       "      <td>female</td>\n",
       "      <td>60.0</td>\n",
       "      <td>upper extremity</td>\n",
       "    </tr>\n",
       "    <tr>\n",
       "      <th>3</th>\n",
       "      <td>ISIC_0000003</td>\n",
       "      <td>2</td>\n",
       "      <td>male</td>\n",
       "      <td>30.0</td>\n",
       "      <td>upper extremity</td>\n",
       "    </tr>\n",
       "    <tr>\n",
       "      <th>4</th>\n",
       "      <td>ISIC_0000004</td>\n",
       "      <td>1</td>\n",
       "      <td>male</td>\n",
       "      <td>80.0</td>\n",
       "      <td>posterior torso</td>\n",
       "    </tr>\n",
       "  </tbody>\n",
       "</table>\n",
       "</div>"
      ],
      "text/plain": [
       "             ID  CLASS     SEX   AGE         POSITION\n",
       "0  ISIC_0000000      2  female  55.0   anterior torso\n",
       "1  ISIC_0000001      2  female  30.0   anterior torso\n",
       "2  ISIC_0000002      1  female  60.0  upper extremity\n",
       "3  ISIC_0000003      2    male  30.0  upper extremity\n",
       "4  ISIC_0000004      1    male  80.0  posterior torso"
      ]
     },
     "execution_count": 144,
     "metadata": {},
     "output_type": "execute_result"
    }
   ],
   "source": [
    "def g(x):\n",
    "    if np.isnan(x):\n",
    "        return np.random.randint(min_age,max_age+1)\n",
    "    else:\n",
    "        return x\n",
    "    \n",
    "train_data['AGE'] = train_data['AGE'].map(g)\n",
    "train_data.head()"
   ]
  },
  {
   "cell_type": "code",
   "execution_count": 145,
   "metadata": {},
   "outputs": [
    {
     "name": "stdout",
     "output_type": "stream",
     "text": [
      "17028\n"
     ]
    }
   ],
   "source": [
    "print(train_data['POSITION'].dropna().count())"
   ]
  },
  {
   "cell_type": "code",
   "execution_count": 146,
   "metadata": {},
   "outputs": [
    {
     "name": "stdout",
     "output_type": "stream",
     "text": [
      "['anterior torso' 'head/neck' 'lateral torso' 'lower extremity'\n",
      " 'oral/genital' 'palms/soles' 'posterior torso' 'upper extremity']\n"
     ]
    }
   ],
   "source": [
    "poss = np.unique(train_data['POSITION'].dropna().to_numpy())\n",
    "print(poss)"
   ]
  },
  {
   "cell_type": "code",
   "execution_count": 147,
   "metadata": {},
   "outputs": [
    {
     "name": "stdout",
     "output_type": "stream",
     "text": [
      "5194 3447 42 3738 46 292 2082 2187\n",
      "17028\n"
     ]
    }
   ],
   "source": [
    "good_pos = train_data['POSITION'].dropna()\n",
    "\n",
    "ant = good_pos[good_pos==poss[0]].count()\n",
    "head = good_pos[good_pos==poss[1]].count()\n",
    "lat = good_pos[good_pos==poss[2]].count()\n",
    "low = good_pos[good_pos==poss[3]].count()\n",
    "ora = good_pos[good_pos==poss[4]].count()\n",
    "pal = good_pos[good_pos==poss[5]].count()\n",
    "pos = good_pos[good_pos==poss[6]].count()\n",
    "upp = good_pos[good_pos==poss[7]].count()\n",
    "tot = ant+head+lat+low+ora+pal+pos+upp\n",
    "print(ant,head,lat,low,ora,pal,pos,upp)\n",
    "print(tot)"
   ]
  },
  {
   "cell_type": "code",
   "execution_count": 148,
   "metadata": {},
   "outputs": [
    {
     "name": "stdout",
     "output_type": "stream",
     "text": [
      "[5194, 3447, 42, 3738, 46, 292, 2082, 2187]\n",
      "[0.30502701 0.20243129 0.00246653 0.21952079 0.00270143 0.01714823\n",
      " 0.1222692  0.12843552]\n",
      "[0.30502701 0.5074583  0.50992483 0.72944562 0.73214705 0.74929528\n",
      " 0.87156448 1.        ]\n"
     ]
    }
   ],
   "source": [
    "cnts = [ant,head,lat,low,ora,pal,pos,upp]\n",
    "probs = cnts/tot\n",
    "ints = np.cumsum(probs)\n",
    "print(cnts)\n",
    "print(probs)\n",
    "print(ints)\n"
   ]
  },
  {
   "cell_type": "code",
   "execution_count": 149,
   "metadata": {},
   "outputs": [
    {
     "data": {
      "text/html": [
       "<div>\n",
       "<style scoped>\n",
       "    .dataframe tbody tr th:only-of-type {\n",
       "        vertical-align: middle;\n",
       "    }\n",
       "\n",
       "    .dataframe tbody tr th {\n",
       "        vertical-align: top;\n",
       "    }\n",
       "\n",
       "    .dataframe thead th {\n",
       "        text-align: right;\n",
       "    }\n",
       "</style>\n",
       "<table border=\"1\" class=\"dataframe\">\n",
       "  <thead>\n",
       "    <tr style=\"text-align: right;\">\n",
       "      <th></th>\n",
       "      <th>ID</th>\n",
       "      <th>CLASS</th>\n",
       "      <th>SEX</th>\n",
       "      <th>AGE</th>\n",
       "      <th>POSITION</th>\n",
       "    </tr>\n",
       "  </thead>\n",
       "  <tbody>\n",
       "    <tr>\n",
       "      <th>0</th>\n",
       "      <td>ISIC_0000000</td>\n",
       "      <td>2</td>\n",
       "      <td>female</td>\n",
       "      <td>55.0</td>\n",
       "      <td>anterior torso</td>\n",
       "    </tr>\n",
       "    <tr>\n",
       "      <th>1</th>\n",
       "      <td>ISIC_0000001</td>\n",
       "      <td>2</td>\n",
       "      <td>female</td>\n",
       "      <td>30.0</td>\n",
       "      <td>anterior torso</td>\n",
       "    </tr>\n",
       "    <tr>\n",
       "      <th>2</th>\n",
       "      <td>ISIC_0000002</td>\n",
       "      <td>1</td>\n",
       "      <td>female</td>\n",
       "      <td>60.0</td>\n",
       "      <td>upper extremity</td>\n",
       "    </tr>\n",
       "    <tr>\n",
       "      <th>3</th>\n",
       "      <td>ISIC_0000003</td>\n",
       "      <td>2</td>\n",
       "      <td>male</td>\n",
       "      <td>30.0</td>\n",
       "      <td>upper extremity</td>\n",
       "    </tr>\n",
       "    <tr>\n",
       "      <th>4</th>\n",
       "      <td>ISIC_0000004</td>\n",
       "      <td>1</td>\n",
       "      <td>male</td>\n",
       "      <td>80.0</td>\n",
       "      <td>posterior torso</td>\n",
       "    </tr>\n",
       "  </tbody>\n",
       "</table>\n",
       "</div>"
      ],
      "text/plain": [
       "             ID  CLASS     SEX   AGE         POSITION\n",
       "0  ISIC_0000000      2  female  55.0   anterior torso\n",
       "1  ISIC_0000001      2  female  30.0   anterior torso\n",
       "2  ISIC_0000002      1  female  60.0  upper extremity\n",
       "3  ISIC_0000003      2    male  30.0  upper extremity\n",
       "4  ISIC_0000004      1    male  80.0  posterior torso"
      ]
     },
     "execution_count": 149,
     "metadata": {},
     "output_type": "execute_result"
    }
   ],
   "source": [
    "def h(x):\n",
    "    if x in poss:\n",
    "        return x\n",
    "    else:\n",
    "        p = np.random.random()\n",
    "        if p<ints[0]:\n",
    "            return poss[0]\n",
    "        elif p<ints[1]:\n",
    "            return poss[1]\n",
    "        elif p<ints[2]:\n",
    "            return poss[2]\n",
    "        elif p<ints[3]:\n",
    "            return poss[3]\n",
    "        elif p<ints[4]:\n",
    "            return poss[4]\n",
    "        elif p<ints[5]:\n",
    "            return poss[5]\n",
    "        elif p<ints[6]:\n",
    "            return poss[6]\n",
    "        else:\n",
    "            return poss[7]       \n",
    "    \n",
    "train_data['POSITION'] = train_data['POSITION'].map(h)\n",
    "train_data.head()"
   ]
  },
  {
   "cell_type": "code",
   "execution_count": 150,
   "metadata": {},
   "outputs": [
    {
     "name": "stdout",
     "output_type": "stream",
     "text": [
      "ID          18998\n",
      "CLASS       18998\n",
      "SEX         18998\n",
      "AGE         18998\n",
      "POSITION    18998\n",
      "dtype: int64\n"
     ]
    }
   ],
   "source": [
    "print(train_data.notna().count())"
   ]
  },
  {
   "cell_type": "code",
   "execution_count": 151,
   "metadata": {},
   "outputs": [],
   "source": [
    "#train_data.to_csv('./metadataTrainFilled.csv',index=False)"
   ]
  },
  {
   "cell_type": "code",
   "execution_count": 3,
   "metadata": {},
   "outputs": [
    {
     "name": "stdout",
     "output_type": "stream",
     "text": [
      "ID          6333\n",
      "SEX         6333\n",
      "AGE         6333\n",
      "POSITION    6333\n",
      "dtype: int64\n"
     ]
    }
   ],
   "source": [
    "test_data = pd.read_csv('./metadataTest.csv')\n",
    "missing_sex = test_data[test_data['SEX'].isna()]\n",
    "sex = test_data[test_data['SEX'].isin(['male','female'])]\n",
    "mal = sex[sex['SEX']=='male']\n",
    "male_prob = mal['ID'].count()/sex['ID'].count()\n",
    "\n",
    "def f(x):\n",
    "    if x in ['male','female']:\n",
    "        return x\n",
    "    else:\n",
    "        p = np.random.random()\n",
    "        if p>male_prob:\n",
    "            return 'female'\n",
    "        else:\n",
    "            return 'male'\n",
    "    \n",
    "test_data['SEX'] = test_data['SEX'].map(f)\n",
    "\n",
    "\n",
    "\n",
    "age = test_data[test_data['AGE'].notna()]\n",
    "agenp = age['AGE'].to_numpy()\n",
    "min_age = np.min(agenp)\n",
    "max_age = np.max(agenp)\n",
    "\n",
    "def g(x):\n",
    "    if np.isnan(x):\n",
    "        return np.random.randint(min_age,max_age+1)\n",
    "    else:\n",
    "        return x\n",
    "    \n",
    "test_data['AGE'] = test_data['AGE'].map(g)\n",
    "\n",
    "\n",
    "\n",
    "poss = np.unique(test_data['POSITION'].dropna().to_numpy())\n",
    "good_pos = test_data['POSITION'].dropna()\n",
    "\n",
    "ant = good_pos[good_pos==poss[0]].count()\n",
    "head = good_pos[good_pos==poss[1]].count()\n",
    "lat = good_pos[good_pos==poss[2]].count()\n",
    "low = good_pos[good_pos==poss[3]].count()\n",
    "ora = good_pos[good_pos==poss[4]].count()\n",
    "pal = good_pos[good_pos==poss[5]].count()\n",
    "pos = good_pos[good_pos==poss[6]].count()\n",
    "upp = good_pos[good_pos==poss[7]].count()\n",
    "tot = ant+head+lat+low+ora+pal+pos+upp\n",
    "\n",
    "cnts = [ant,head,lat,low,ora,pal,pos,upp]\n",
    "probs = cnts/tot\n",
    "ints = np.cumsum(probs)\n",
    "\n",
    "def h(x):\n",
    "    if x in poss:\n",
    "        return x\n",
    "    else:\n",
    "        p = np.random.random()\n",
    "        if p<ints[0]:\n",
    "            return poss[0]\n",
    "        elif p<ints[1]:\n",
    "            return poss[1]\n",
    "        elif p<ints[2]:\n",
    "            return poss[2]\n",
    "        elif p<ints[3]:\n",
    "            return poss[3]\n",
    "        elif p<ints[4]:\n",
    "            return poss[4]\n",
    "        elif p<ints[5]:\n",
    "            return poss[5]\n",
    "        elif p<ints[6]:\n",
    "            return poss[6]\n",
    "        else:\n",
    "            return poss[7]       \n",
    "    \n",
    "test_data['POSITION'] = test_data['POSITION'].map(h)\n",
    "\n",
    "print(test_data.notna().count())"
   ]
  },
  {
   "cell_type": "code",
   "execution_count": 4,
   "metadata": {},
   "outputs": [],
   "source": [
    "test_data.to_csv('./metadataTestFilled.csv',index=False)"
   ]
  }
 ],
 "metadata": {
  "kernelspec": {
   "display_name": "Python 3",
   "language": "python",
   "name": "python3"
  },
  "language_info": {
   "codemirror_mode": {
    "name": "ipython",
    "version": 3
   },
   "file_extension": ".py",
   "mimetype": "text/x-python",
   "name": "python",
   "nbconvert_exporter": "python",
   "pygments_lexer": "ipython3",
   "version": "3.11.4"
  }
 },
 "nbformat": 4,
 "nbformat_minor": 2
}
