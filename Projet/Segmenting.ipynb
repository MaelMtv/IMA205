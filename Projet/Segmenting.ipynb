{
 "cells": [
  {
   "cell_type": "code",
   "execution_count": 1,
   "metadata": {},
   "outputs": [
    {
     "name": "stdout",
     "output_type": "stream",
     "text": [
      "WARNING:tensorflow:From c:\\Users\\maelm\\AppData\\Local\\Programs\\Python\\Python311\\Lib\\site-packages\\keras\\src\\losses.py:2976: The name tf.losses.sparse_softmax_cross_entropy is deprecated. Please use tf.compat.v1.losses.sparse_softmax_cross_entropy instead.\n",
      "\n"
     ]
    }
   ],
   "source": [
    "import os\n",
    "import numpy as np\n",
    "from glob import glob\n",
    "import pandas as pd\n",
    "import matplotlib.pyplot as plt\n",
    "import cv2 as cv\n",
    "from tensorflow import keras\n",
    "from tensorflow.keras.models import Model\n",
    "from tensorflow.keras.layers import Input, Conv2D, Conv2DTranspose\n",
    "from tensorflow.keras import Sequential\n",
    "from tensorflow.keras.losses import MeanSquaredError\n",
    "from tensorflow.keras.saving import load_model\n",
    "from skimage.morphology import disk"
   ]
  },
  {
   "cell_type": "code",
   "execution_count": 2,
   "metadata": {},
   "outputs": [
    {
     "name": "stdout",
     "output_type": "stream",
     "text": [
      "WARNING:tensorflow:From c:\\Users\\maelm\\AppData\\Local\\Programs\\Python\\Python311\\Lib\\site-packages\\keras\\src\\backend.py:1398: The name tf.executing_eagerly_outside_functions is deprecated. Please use tf.compat.v1.executing_eagerly_outside_functions instead.\n",
      "\n",
      "WARNING:tensorflow:From c:\\Users\\maelm\\AppData\\Local\\Programs\\Python\\Python311\\Lib\\site-packages\\keras\\src\\optimizers\\__init__.py:309: The name tf.train.Optimizer is deprecated. Please use tf.compat.v1.train.Optimizer instead.\n",
      "\n",
      "Model: \"model\"\n",
      "_________________________________________________________________\n",
      " Layer (type)                Output Shape              Param #   \n",
      "=================================================================\n",
      " input (InputLayer)          [(None, 384, 512, 1)]     0         \n",
      "                                                                 \n",
      " conv2d (Conv2D)             (None, 192, 256, 16)      160       \n",
      "                                                                 \n",
      " conv2d_1 (Conv2D)           (None, 96, 128, 8)        1160      \n",
      "                                                                 \n",
      " conv2d_2 (Conv2D)           (None, 48, 64, 4)         292       \n",
      "                                                                 \n",
      " conv2d_transpose (Conv2DTr  (None, 96, 128, 4)        148       \n",
      " anspose)                                                        \n",
      "                                                                 \n",
      " conv2d_transpose_1 (Conv2D  (None, 192, 256, 8)       296       \n",
      " Transpose)                                                      \n",
      "                                                                 \n",
      " conv2d_transpose_2 (Conv2D  (None, 384, 512, 16)      1168      \n",
      " Transpose)                                                      \n",
      "                                                                 \n",
      " conv2d_3 (Conv2D)           (None, 384, 512, 1)       145       \n",
      "                                                                 \n",
      "=================================================================\n",
      "Total params: 3369 (13.16 KB)\n",
      "Trainable params: 3369 (13.16 KB)\n",
      "Non-trainable params: 0 (0.00 Byte)\n",
      "_________________________________________________________________\n"
     ]
    }
   ],
   "source": [
    "ae = load_model(\"autoencoder_seg.keras\")\n",
    "ae.summary()\n",
    "threshold = 252"
   ]
  },
  {
   "cell_type": "code",
   "execution_count": 3,
   "metadata": {},
   "outputs": [
    {
     "name": "stdout",
     "output_type": "stream",
     "text": [
      "18998\n",
      "['./Train/Modified/ISIC_0000000.jpg', './Train/Modified/ISIC_0000001.jpg', './Train/Modified/ISIC_0000002.jpg', './Train/Modified/ISIC_0000003.jpg', './Train/Modified/ISIC_0000004.jpg']\n",
      "1945\n",
      "['./Train/Modified/ISIC_0000000.jpg', './Train/Modified/ISIC_0000001.jpg', './Train/Modified/ISIC_0000003.jpg', './Train/Modified/ISIC_0000004.jpg', './Train/Modified/ISIC_0000007.jpg']\n",
      "['./Train/Modified/ISIC_0000002.jpg' './Train/Modified/ISIC_0000010.jpg'\n",
      " './Train/Modified/ISIC_0000114.jpg' './Train/Modified/ISIC_0000118.jpg'\n",
      " './Train/Modified/ISIC_0000174.jpg']\n",
      "6333\n",
      "['./Test/Modified/ISIC_0000006.jpg', './Test/Modified/ISIC_0000011.jpg', './Test/Modified/ISIC_0000014.jpg', './Test/Modified/ISIC_0000018.jpg', './Test/Modified/ISIC_0000022.jpg']\n",
      "648\n",
      "['./Test/Modified/ISIC_0000006.jpg', './Test/Modified/ISIC_0000011.jpg', './Test/Modified/ISIC_0000014.jpg', './Test/Modified/ISIC_0000018.jpg', './Test/Modified/ISIC_0000022.jpg']\n",
      "['./Test/Modified/ISIC_0000130.jpg' './Test/Modified/ISIC_0000195.jpg'\n",
      " './Test/Modified/ISIC_0000551.jpg' './Test/Modified/ISIC_0003051.jpg'\n",
      " './Test/Modified/ISIC_0004166.jpg']\n"
     ]
    }
   ],
   "source": [
    "train_ims = sorted(glob(os.path.join('.\\Train\\Train','*.jpg')))\n",
    "for i in range(len(train_ims)):\n",
    "    train_ims[i] = train_ims[i].replace('.\\\\Train\\\\Train\\\\','./Train/Modified/')\n",
    "print(len(train_ims))\n",
    "print(train_ims[:5])\n",
    "\n",
    "seg_ims = sorted(glob(os.path.join('.\\Train\\Train','*.png')))\n",
    "print(len(seg_ims))\n",
    "\n",
    "for i in range(len(seg_ims)):\n",
    "    seg_ims[i] = seg_ims[i].replace('_seg.png','.jpg')\n",
    "    seg_ims[i] = seg_ims[i].replace('.\\\\Train\\\\Train\\\\','./Train/Modified/')\n",
    "print(seg_ims[:5])\n",
    "\n",
    "undone_train = np.array([x for x in train_ims if x not in seg_ims])\n",
    "print(undone_train[:5])\n",
    "\n",
    "\n",
    "test_ims = sorted(glob(os.path.join('.\\Test\\Test','*.jpg')))\n",
    "for i in range(len(test_ims)):\n",
    "    test_ims[i] = test_ims[i].replace('.\\\\Test\\\\Test\\\\','./Test/Modified/')\n",
    "print(len(test_ims))\n",
    "print(test_ims[:5])\n",
    "\n",
    "segtest_ims = sorted(glob(os.path.join('.\\Test\\Test','*.png')))\n",
    "print(len(segtest_ims))\n",
    "\n",
    "for i in range(len(segtest_ims)):\n",
    "    segtest_ims[i] = segtest_ims[i].replace('_seg.png','.jpg')\n",
    "    segtest_ims[i] = segtest_ims[i].replace('.\\\\Test\\\\Test\\\\','./Test/Modified/')\n",
    "print(segtest_ims[:5])\n",
    "\n",
    "undone_test = np.array([x for x in test_ims if x not in segtest_ims])\n",
    "print(undone_test[:5])"
   ]
  },
  {
   "cell_type": "code",
   "execution_count": 4,
   "metadata": {},
   "outputs": [
    {
     "name": "stdout",
     "output_type": "stream",
     "text": [
      "['./Train/Modified/ISIC_0000002_seg.png', './Train/Modified/ISIC_0000010_seg.png', './Train/Modified/ISIC_0000114_seg.png', './Train/Modified/ISIC_0000118_seg.png', './Train/Modified/ISIC_0000174_seg.png']\n",
      "['./Test/Modified/ISIC_0000130_seg.png', './Test/Modified/ISIC_0000195_seg.png', './Test/Modified/ISIC_0000551_seg.png', './Test/Modified/ISIC_0003051_seg.png', './Test/Modified/ISIC_0004166_seg.png']\n"
     ]
    }
   ],
   "source": [
    "filenametrain = []\n",
    "for i in range(len(undone_train)):\n",
    "    name = undone_train[i]\n",
    "    name = name.replace('.\\\\Train\\\\Train\\\\','./Train/Modified/')\n",
    "    name = name.replace('.jpg','_seg.png')\n",
    "    filenametrain.append(name)\n",
    "print(filenametrain[:5])\n",
    "\n",
    "filenametest = []\n",
    "for i in range(len(undone_test)):\n",
    "    name = undone_test[i]\n",
    "    name = name.replace('.\\\\Test\\\\Test\\\\','./Test/Modified/')\n",
    "    name = name.replace('.jpg','_seg.png')\n",
    "    filenametest.append(name)\n",
    "print(filenametest[:5])"
   ]
  },
  {
   "cell_type": "code",
   "execution_count": 5,
   "metadata": {},
   "outputs": [],
   "source": [
    "m = np.concatenate((np.zeros((384,64)),np.concatenate((np.ones((384,384)),np.zeros((384,64))),axis=1)),axis=1)"
   ]
  },
  {
   "cell_type": "code",
   "execution_count": 6,
   "metadata": {},
   "outputs": [
    {
     "name": "stdout",
     "output_type": "stream",
     "text": [
      "10000\n",
      "10100\n",
      "10200\n",
      "10300\n",
      "10400\n",
      "10500\n",
      "10600\n",
      "10700\n",
      "10800\n",
      "10900\n",
      "11000\n",
      "11100\n",
      "11200\n",
      "11300\n",
      "11400\n",
      "11500\n",
      "11600\n",
      "11700\n",
      "11800\n",
      "11900\n",
      "12000\n",
      "12100\n",
      "12200\n",
      "12300\n",
      "12400\n",
      "12500\n",
      "12600\n",
      "12700\n",
      "12800\n",
      "12900\n",
      "13000\n",
      "13100\n",
      "13200\n",
      "13300\n",
      "13400\n",
      "13500\n",
      "13600\n",
      "13700\n",
      "13800\n",
      "13900\n",
      "14000\n",
      "14100\n",
      "14200\n",
      "14300\n",
      "14400\n",
      "14500\n",
      "14600\n",
      "14700\n",
      "14800\n",
      "14900\n",
      "15000\n",
      "15100\n",
      "15200\n",
      "15300\n",
      "15400\n",
      "15500\n",
      "15600\n",
      "15700\n",
      "15800\n",
      "15900\n",
      "16000\n",
      "16100\n",
      "16200\n",
      "16300\n",
      "16400\n",
      "16500\n",
      "16600\n",
      "16700\n",
      "16800\n",
      "16900\n",
      "17000\n"
     ]
    },
    {
     "ename": "IndexError",
     "evalue": "index 1 is out of bounds for axis 0 with size 1",
     "output_type": "error",
     "traceback": [
      "\u001b[1;31m---------------------------------------------------------------------------\u001b[0m",
      "\u001b[1;31mIndexError\u001b[0m                                Traceback (most recent call last)",
      "Cell \u001b[1;32mIn[6], line 7\u001b[0m\n\u001b[0;32m      5\u001b[0m p \u001b[38;5;241m=\u001b[39m ae(z)\u001b[38;5;241m.\u001b[39mnumpy()\n\u001b[0;32m      6\u001b[0m \u001b[38;5;28;01mfor\u001b[39;00m k \u001b[38;5;129;01min\u001b[39;00m \u001b[38;5;28mrange\u001b[39m(\u001b[38;5;241m2\u001b[39m):\n\u001b[1;32m----> 7\u001b[0m     mi \u001b[38;5;241m=\u001b[39m np\u001b[38;5;241m.\u001b[39mmin(\u001b[43mp\u001b[49m\u001b[43m[\u001b[49m\u001b[43mk\u001b[49m\u001b[43m]\u001b[49m)\n\u001b[0;32m      8\u001b[0m     ma \u001b[38;5;241m=\u001b[39m np\u001b[38;5;241m.\u001b[39mmax(p[k])\n\u001b[0;32m      9\u001b[0m     im \u001b[38;5;241m=\u001b[39m \u001b[38;5;241m255\u001b[39m\u001b[38;5;241m/\u001b[39m(ma\u001b[38;5;241m-\u001b[39mmi)\u001b[38;5;241m*\u001b[39m(p[k]\u001b[38;5;241m-\u001b[39mmi)\n",
      "\u001b[1;31mIndexError\u001b[0m: index 1 is out of bounds for axis 0 with size 1"
     ]
    }
   ],
   "source": [
    "for i in range(0,len(undone_train),2):\n",
    "    if i%100==0:\n",
    "        print(i)\n",
    "    z = np.array([1/255*np.reshape(cv.resize(cv.imread(x,cv.IMREAD_GRAYSCALE),(512,384)),(384,512,1)) for x in undone_train[i:i+2]])\n",
    "    p = ae(z).numpy()\n",
    "    for k in range(2):\n",
    "        mi = np.min(p[k])\n",
    "        ma = np.max(p[k])\n",
    "        im = 255/(ma-mi)*(p[k]-mi)\n",
    "        thresh = (im>threshold).astype(np.uint8)\n",
    "\n",
    "        s0 = np.sum(thresh,axis=0)\n",
    "        s1 = np.sum(s0[:128])\n",
    "        s2 = np.sum(s0[128:256])\n",
    "        s3 = np.sum(s0[256:384])\n",
    "        if s1>s2 or s3>s2:\n",
    "            thresh = (thresh.reshape(384,512)*m).astype(np.uint8)\n",
    "        \n",
    "        thresh = cv.morphologyEx(thresh, cv.MORPH_CLOSE, cv.getStructuringElement(cv.MORPH_ELLIPSE, (60, 45)))\n",
    "        thresh = np.pad(255*thresh,((1,1),(1,1)),'constant',constant_values=(0,0))\n",
    "        # Find largest contour in intermediate image\n",
    "        cnts, _ = cv.findContours(thresh, cv.RETR_EXTERNAL, cv.CHAIN_APPROX_NONE)\n",
    "        if len(cnts)!=0:\n",
    "            cnt = max(cnts, key=cv.contourArea)\n",
    "            # Output\n",
    "            out = np.zeros(thresh.shape, np.uint8)\n",
    "            cv.drawContours(out, [cnt], -1, 255,cv.FILLED)\n",
    "         \n",
    "            cv.imwrite(filenametrain[i+k],out[1:385,1:513])"
   ]
  },
  {
   "cell_type": "code",
   "execution_count": 6,
   "metadata": {},
   "outputs": [
    {
     "name": "stdout",
     "output_type": "stream",
     "text": [
      "3800\n",
      "3900\n",
      "4000\n",
      "4100\n",
      "4200\n",
      "4300\n",
      "4400\n",
      "4500\n",
      "4600\n",
      "4700\n",
      "4800\n",
      "4900\n",
      "5000\n",
      "5100\n",
      "5200\n",
      "5300\n",
      "5400\n",
      "5500\n",
      "5600\n"
     ]
    },
    {
     "ename": "IndexError",
     "evalue": "index 1 is out of bounds for axis 0 with size 1",
     "output_type": "error",
     "traceback": [
      "\u001b[1;31m---------------------------------------------------------------------------\u001b[0m",
      "\u001b[1;31mIndexError\u001b[0m                                Traceback (most recent call last)",
      "Cell \u001b[1;32mIn[6], line 7\u001b[0m\n\u001b[0;32m      5\u001b[0m p \u001b[38;5;241m=\u001b[39m ae(z)\u001b[38;5;241m.\u001b[39mnumpy()\n\u001b[0;32m      6\u001b[0m \u001b[38;5;28;01mfor\u001b[39;00m k \u001b[38;5;129;01min\u001b[39;00m \u001b[38;5;28mrange\u001b[39m(\u001b[38;5;241m2\u001b[39m):\n\u001b[1;32m----> 7\u001b[0m     mi \u001b[38;5;241m=\u001b[39m np\u001b[38;5;241m.\u001b[39mmin(\u001b[43mp\u001b[49m\u001b[43m[\u001b[49m\u001b[43mk\u001b[49m\u001b[43m]\u001b[49m)\n\u001b[0;32m      8\u001b[0m     ma \u001b[38;5;241m=\u001b[39m np\u001b[38;5;241m.\u001b[39mmax(p[k])\n\u001b[0;32m      9\u001b[0m     im \u001b[38;5;241m=\u001b[39m \u001b[38;5;241m255\u001b[39m\u001b[38;5;241m/\u001b[39m(ma\u001b[38;5;241m-\u001b[39mmi)\u001b[38;5;241m*\u001b[39m(p[k]\u001b[38;5;241m-\u001b[39mmi)\n",
      "\u001b[1;31mIndexError\u001b[0m: index 1 is out of bounds for axis 0 with size 1"
     ]
    }
   ],
   "source": [
    "for i in range(0,len(undone_test),2):\n",
    "    if i%100==0:\n",
    "        print(i)\n",
    "    z = np.array([1/255*np.reshape(cv.resize(cv.imread(x,cv.IMREAD_GRAYSCALE),(512,384)),(384,512,1)) for x in undone_test[i:i+2]])\n",
    "    p = ae(z).numpy()\n",
    "    for k in range(2):\n",
    "        mi = np.min(p[k])\n",
    "        ma = np.max(p[k])\n",
    "        im = 255/(ma-mi)*(p[k]-mi)\n",
    "        thresh = (im>threshold).astype(np.uint8)\n",
    "\n",
    "        s0 = np.sum(thresh,axis=0)\n",
    "        s1 = np.sum(s0[:128])\n",
    "        s2 = np.sum(s0[128:256])\n",
    "        s3 = np.sum(s0[256:384])\n",
    "        if s1>s2 or s3>s2:\n",
    "            thresh = (thresh.reshape(384,512)*m).astype(np.uint8)\n",
    "        \n",
    "        thresh = cv.morphologyEx(thresh, cv.MORPH_CLOSE, cv.getStructuringElement(cv.MORPH_ELLIPSE, (60, 45)))\n",
    "        thresh = np.pad(255*thresh,((1,1),(1,1)),'constant',constant_values=(0,0))\n",
    "        # Find largest contour in intermediate image\n",
    "        cnts, _ = cv.findContours(thresh, cv.RETR_EXTERNAL, cv.CHAIN_APPROX_NONE)\n",
    "        if len(cnts)!=0:\n",
    "            cnt = max(cnts, key=cv.contourArea)\n",
    "            # Output\n",
    "            out = np.zeros(thresh.shape, np.uint8)\n",
    "            cv.drawContours(out, [cnt], -1, 255,cv.FILLED)\n",
    "         \n",
    "            cv.imwrite(filenametest[i+k],out[1:385,1:513])"
   ]
  },
  {
   "cell_type": "code",
   "execution_count": 14,
   "metadata": {},
   "outputs": [
    {
     "name": "stdout",
     "output_type": "stream",
     "text": [
      "1945\n",
      "['.\\\\Train\\\\Train\\\\ISIC_0000000_seg.png', '.\\\\Train\\\\Train\\\\ISIC_0000001_seg.png', '.\\\\Train\\\\Train\\\\ISIC_0000003_seg.png', '.\\\\Train\\\\Train\\\\ISIC_0000004_seg.png', '.\\\\Train\\\\Train\\\\ISIC_0000007_seg.png']\n",
      "['./Train/Modified/ISIC_0000000_seg.png', './Train/Modified/ISIC_0000001_seg.png', './Train/Modified/ISIC_0000003_seg.png', './Train/Modified/ISIC_0000004_seg.png', './Train/Modified/ISIC_0000007_seg.png']\n",
      "648\n",
      "['.\\\\Test\\\\Test\\\\ISIC_0000006_seg.png', '.\\\\Test\\\\Test\\\\ISIC_0000011_seg.png', '.\\\\Test\\\\Test\\\\ISIC_0000014_seg.png', '.\\\\Test\\\\Test\\\\ISIC_0000018_seg.png', '.\\\\Test\\\\Test\\\\ISIC_0000022_seg.png']\n",
      "['./Test/Modified/ISIC_0000006_seg.png', './Test/Modified/ISIC_0000011_seg.png', './Test/Modified/ISIC_0000014_seg.png', './Test/Modified/ISIC_0000018_seg.png', './Test/Modified/ISIC_0000022_seg.png']\n"
     ]
    }
   ],
   "source": [
    "seg_ims = sorted(glob(os.path.join('.\\Train\\Train','*.png')))\n",
    "print(len(seg_ims))\n",
    "print(seg_ims[:5])\n",
    "train_dest = []\n",
    "for i in range(len(seg_ims)):\n",
    "    name = seg_ims[i]\n",
    "    name = name.replace('.\\\\Train\\\\Train\\\\','./Train/Modified/')\n",
    "    train_dest.append(name)\n",
    "print(train_dest[:5])\n",
    "\n",
    "segtest_ims = sorted(glob(os.path.join('.\\Test\\Test','*.png')))\n",
    "print(len(segtest_ims))\n",
    "print(segtest_ims[:5])\n",
    "test_dest = []\n",
    "for i in range(len(segtest_ims)):\n",
    "    name = segtest_ims[i]\n",
    "    name = name.replace('.\\\\Test\\\\Test\\\\','./Test/Modified/')\n",
    "    test_dest.append(name)\n",
    "print(test_dest[:5])\n"
   ]
  },
  {
   "cell_type": "code",
   "execution_count": 16,
   "metadata": {},
   "outputs": [],
   "source": [
    "for i in range(len(seg_ims)):\n",
    "    im = cv.resize(cv.imread(seg_ims[i],cv.IMREAD_GRAYSCALE),(512,384))\n",
    "    cv.imwrite(train_dest[i],im)"
   ]
  },
  {
   "cell_type": "code",
   "execution_count": 17,
   "metadata": {},
   "outputs": [],
   "source": [
    "for i in range(len(segtest_ims)):\n",
    "    im = cv.resize(cv.imread(segtest_ims[i],cv.IMREAD_GRAYSCALE),(512,384))\n",
    "    cv.imwrite(test_dest[i],im)"
   ]
  },
  {
   "cell_type": "code",
   "execution_count": 22,
   "metadata": {},
   "outputs": [
    {
     "name": "stdout",
     "output_type": "stream",
     "text": [
      "6308\n",
      "['.\\\\Test\\\\Modified\\\\ISIC_0000006_seg.png', '.\\\\Test\\\\Modified\\\\ISIC_0000011_seg.png', '.\\\\Test\\\\Modified\\\\ISIC_0000014_seg.png', '.\\\\Test\\\\Modified\\\\ISIC_0000018_seg.png', '.\\\\Test\\\\Modified\\\\ISIC_0000022_seg.png']\n",
      "6333\n",
      "['.\\\\Test\\\\Modified\\\\ISIC_0000006.jpg', '.\\\\Test\\\\Modified\\\\ISIC_0000011.jpg', '.\\\\Test\\\\Modified\\\\ISIC_0000014.jpg', '.\\\\Test\\\\Modified\\\\ISIC_0000018.jpg', '.\\\\Test\\\\Modified\\\\ISIC_0000022.jpg']\n"
     ]
    }
   ],
   "source": [
    "segtest_ims = sorted(glob(os.path.join('.\\Test\\Modified','*.png')))\n",
    "print(len(segtest_ims))\n",
    "print(segtest_ims[:5])\n",
    "test_ims = sorted(glob(os.path.join('.\\Test\\Modified','*.jpg')))\n",
    "print(len(test_ims))\n",
    "print(test_ims[:5])"
   ]
  },
  {
   "cell_type": "code",
   "execution_count": 24,
   "metadata": {},
   "outputs": [
    {
     "name": "stdout",
     "output_type": "stream",
     "text": [
      "['ISIC_0000006', 'ISIC_0000011', 'ISIC_0000014', 'ISIC_0000018', 'ISIC_0000022']\n",
      "['ISIC_0000006', 'ISIC_0000011', 'ISIC_0000014', 'ISIC_0000018', 'ISIC_0000022']\n",
      "25\n",
      "['ISIC_0012459', 'ISIC_0014179', 'ISIC_0014636', 'ISIC_0024787', 'ISIC_0026567']\n"
     ]
    }
   ],
   "source": [
    "leftout_test=[]\n",
    "segtest_names = []\n",
    "for i in range(len(segtest_ims)):\n",
    "    name = segtest_ims[i]\n",
    "    name = name.replace('.\\\\Test\\\\Modified\\\\','')\n",
    "    name = name.replace('_seg.png','')\n",
    "    segtest_names.append(name)\n",
    "test_names = []\n",
    "for i in range(len(test_ims)):\n",
    "    name = test_ims[i]\n",
    "    name = name.replace('.\\\\Test\\\\Modified\\\\','')\n",
    "    name = name.replace('.jpg','')\n",
    "    test_names.append(name)\n",
    "print(segtest_names[:5])\n",
    "print(test_names[:5])\n",
    "leftout_test = [x for x in test_names if x not in segtest_names]\n",
    "print(len(leftout_test))\n",
    "print(leftout_test[:5])"
   ]
  },
  {
   "cell_type": "code",
   "execution_count": 25,
   "metadata": {},
   "outputs": [
    {
     "name": "stdout",
     "output_type": "stream",
     "text": [
      "['./Test/Modified/ISIC_0012459_seg.png', './Test/Modified/ISIC_0014179_seg.png', './Test/Modified/ISIC_0014636_seg.png', './Test/Modified/ISIC_0024787_seg.png', './Test/Modified/ISIC_0026567_seg.png']\n"
     ]
    }
   ],
   "source": [
    "leftout_seg = []\n",
    "for i in range(len(leftout_test)):\n",
    "    name = leftout_test[i]\n",
    "    name = './Test/Modified/'+name+'_seg.png'\n",
    "    leftout_seg.append(name)\n",
    "print(leftout_seg[:5])"
   ]
  },
  {
   "cell_type": "code",
   "execution_count": 26,
   "metadata": {},
   "outputs": [],
   "source": [
    "for i in range(len(leftout_seg)):\n",
    "    im = np.zeros((384,512))\n",
    "    cv.imwrite(leftout_seg[i],im)"
   ]
  },
  {
   "cell_type": "code",
   "execution_count": 28,
   "metadata": {},
   "outputs": [
    {
     "name": "stdout",
     "output_type": "stream",
     "text": [
      "18989\n",
      "['.\\\\Train\\\\Modified\\\\ISIC_0000000_seg.png', '.\\\\Train\\\\Modified\\\\ISIC_0000001_seg.png', '.\\\\Train\\\\Modified\\\\ISIC_0000002_seg.png', '.\\\\Train\\\\Modified\\\\ISIC_0000003_seg.png', '.\\\\Train\\\\Modified\\\\ISIC_0000004_seg.png']\n",
      "18998\n",
      "['.\\\\Train\\\\Modified\\\\ISIC_0000000.jpg', '.\\\\Train\\\\Modified\\\\ISIC_0000001.jpg', '.\\\\Train\\\\Modified\\\\ISIC_0000002.jpg', '.\\\\Train\\\\Modified\\\\ISIC_0000003.jpg', '.\\\\Train\\\\Modified\\\\ISIC_0000004.jpg']\n"
     ]
    }
   ],
   "source": [
    "segtrain_ims = sorted(glob(os.path.join('.\\Train\\Modified','*.png')))\n",
    "print(len(segtrain_ims))\n",
    "print(segtrain_ims[:5])\n",
    "train_ims = sorted(glob(os.path.join('.\\Train\\Modified','*.jpg')))\n",
    "print(len(train_ims))\n",
    "print(train_ims[:5])"
   ]
  },
  {
   "cell_type": "code",
   "execution_count": 29,
   "metadata": {},
   "outputs": [
    {
     "name": "stdout",
     "output_type": "stream",
     "text": [
      "['ISIC_0000000', 'ISIC_0000001', 'ISIC_0000002', 'ISIC_0000003', 'ISIC_0000004']\n",
      "['ISIC_0000000', 'ISIC_0000001', 'ISIC_0000002', 'ISIC_0000003', 'ISIC_0000004']\n",
      "9\n",
      "['ISIC_0012254', 'ISIC_0025831', 'ISIC_0031814', 'ISIC_0031937', 'ISIC_0057964']\n"
     ]
    }
   ],
   "source": [
    "leftout_train=[]\n",
    "segtrain_names = []\n",
    "for i in range(len(segtrain_ims)):\n",
    "    name = segtrain_ims[i]\n",
    "    name = name.replace('.\\\\Train\\\\Modified\\\\','')\n",
    "    name = name.replace('_seg.png','')\n",
    "    segtrain_names.append(name)\n",
    "train_names = []\n",
    "for i in range(len(train_ims)):\n",
    "    name = train_ims[i]\n",
    "    name = name.replace('.\\\\Train\\\\Modified\\\\','')\n",
    "    name = name.replace('.jpg','')\n",
    "    train_names.append(name)\n",
    "print(segtrain_names[:5])\n",
    "print(train_names[:5])\n",
    "leftout_train = [x for x in train_names if x not in segtrain_names]\n",
    "print(len(leftout_train))\n",
    "print(leftout_train[:5])"
   ]
  },
  {
   "cell_type": "code",
   "execution_count": 30,
   "metadata": {},
   "outputs": [
    {
     "name": "stdout",
     "output_type": "stream",
     "text": [
      "['./Train/Modified/ISIC_0012254_seg.png', './Train/Modified/ISIC_0025831_seg.png', './Train/Modified/ISIC_0031814_seg.png', './Train/Modified/ISIC_0031937_seg.png', './Train/Modified/ISIC_0057964_seg.png']\n"
     ]
    }
   ],
   "source": [
    "leftout_seg = []\n",
    "for i in range(len(leftout_train)):\n",
    "    name = leftout_train[i]\n",
    "    name = './Train/Modified/'+name+'_seg.png'\n",
    "    leftout_seg.append(name)\n",
    "print(leftout_seg[:5])"
   ]
  },
  {
   "cell_type": "code",
   "execution_count": 31,
   "metadata": {},
   "outputs": [],
   "source": [
    "for i in range(len(leftout_seg)):\n",
    "    im = np.zeros((384,512))\n",
    "    cv.imwrite(leftout_seg[i],im)"
   ]
  }
 ],
 "metadata": {
  "kernelspec": {
   "display_name": "Python 3",
   "language": "python",
   "name": "python3"
  },
  "language_info": {
   "codemirror_mode": {
    "name": "ipython",
    "version": 3
   },
   "file_extension": ".py",
   "mimetype": "text/x-python",
   "name": "python",
   "nbconvert_exporter": "python",
   "pygments_lexer": "ipython3",
   "version": "3.11.4"
  }
 },
 "nbformat": 4,
 "nbformat_minor": 2
}
