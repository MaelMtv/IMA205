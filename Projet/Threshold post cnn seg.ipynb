{
 "cells": [
  {
   "cell_type": "code",
   "execution_count": 1,
   "metadata": {},
   "outputs": [
    {
     "name": "stdout",
     "output_type": "stream",
     "text": [
      "WARNING:tensorflow:From c:\\Users\\maelm\\AppData\\Local\\Programs\\Python\\Python311\\Lib\\site-packages\\keras\\src\\losses.py:2976: The name tf.losses.sparse_softmax_cross_entropy is deprecated. Please use tf.compat.v1.losses.sparse_softmax_cross_entropy instead.\n",
      "\n"
     ]
    }
   ],
   "source": [
    "import os\n",
    "import numpy as np\n",
    "from glob import glob\n",
    "import pandas as pd\n",
    "import matplotlib.pyplot as plt\n",
    "import cv2 as cv\n",
    "from tensorflow import keras\n",
    "from tensorflow.keras.models import Model\n",
    "from tensorflow.keras.layers import Input, Conv2D, Conv2DTranspose\n",
    "from tensorflow.keras import Sequential\n",
    "from tensorflow.keras.losses import MeanSquaredError\n",
    "from tensorflow.keras.saving import load_model\n",
    "from skimage.morphology import disk\n",
    "from scipy.spatial import ConvexHull"
   ]
  },
  {
   "cell_type": "code",
   "execution_count": 2,
   "metadata": {},
   "outputs": [
    {
     "name": "stdout",
     "output_type": "stream",
     "text": [
      "648\n"
     ]
    }
   ],
   "source": [
    "seg_test = sorted(glob(os.path.join('.\\Test\\Test','*.png')))\n",
    "print(len(seg_test))"
   ]
  },
  {
   "cell_type": "code",
   "execution_count": 3,
   "metadata": {},
   "outputs": [
    {
     "name": "stdout",
     "output_type": "stream",
     "text": [
      "['./Test/Modified/ISIC_0000006.jpg', './Test/Modified/ISIC_0000011.jpg', './Test/Modified/ISIC_0000014.jpg', './Test/Modified/ISIC_0000018.jpg', './Test/Modified/ISIC_0000022.jpg']\n"
     ]
    }
   ],
   "source": [
    "test_ims = []\n",
    "for i in range(len(seg_test)):\n",
    "    name = seg_test[i]\n",
    "    name = name.replace('_seg.png','.jpg')\n",
    "    name = name.replace('.\\\\Test\\\\Test\\\\','./Test/Modified/')\n",
    "    test_ims.append(name)\n",
    "print(test_ims[:5])"
   ]
  },
  {
   "cell_type": "code",
   "execution_count": 4,
   "metadata": {},
   "outputs": [],
   "source": [
    "test_data = np.array([np.reshape(cv.resize(cv.imread(x,cv.IMREAD_GRAYSCALE),(512,384)),(384,512,1)) for x in test_ims])\n",
    "test_masks = np.array([np.reshape(cv.resize(cv.imread(y,cv.IMREAD_GRAYSCALE),(512,384)),(384,512,1)) for y in seg_test])"
   ]
  },
  {
   "cell_type": "code",
   "execution_count": 5,
   "metadata": {},
   "outputs": [
    {
     "name": "stdout",
     "output_type": "stream",
     "text": [
      "WARNING:tensorflow:From c:\\Users\\maelm\\AppData\\Local\\Programs\\Python\\Python311\\Lib\\site-packages\\keras\\src\\backend.py:1398: The name tf.executing_eagerly_outside_functions is deprecated. Please use tf.compat.v1.executing_eagerly_outside_functions instead.\n",
      "\n",
      "WARNING:tensorflow:From c:\\Users\\maelm\\AppData\\Local\\Programs\\Python\\Python311\\Lib\\site-packages\\keras\\src\\optimizers\\__init__.py:309: The name tf.train.Optimizer is deprecated. Please use tf.compat.v1.train.Optimizer instead.\n",
      "\n",
      "Model: \"model\"\n",
      "_________________________________________________________________\n",
      " Layer (type)                Output Shape              Param #   \n",
      "=================================================================\n",
      " input (InputLayer)          [(None, 384, 512, 1)]     0         \n",
      "                                                                 \n",
      " conv2d (Conv2D)             (None, 192, 256, 16)      160       \n",
      "                                                                 \n",
      " conv2d_1 (Conv2D)           (None, 96, 128, 8)        1160      \n",
      "                                                                 \n",
      " conv2d_2 (Conv2D)           (None, 48, 64, 4)         292       \n",
      "                                                                 \n",
      " conv2d_transpose (Conv2DTr  (None, 96, 128, 4)        148       \n",
      " anspose)                                                        \n",
      "                                                                 \n",
      " conv2d_transpose_1 (Conv2D  (None, 192, 256, 8)       296       \n",
      " Transpose)                                                      \n",
      "                                                                 \n",
      " conv2d_transpose_2 (Conv2D  (None, 384, 512, 16)      1168      \n",
      " Transpose)                                                      \n",
      "                                                                 \n",
      " conv2d_3 (Conv2D)           (None, 384, 512, 1)       145       \n",
      "                                                                 \n",
      "=================================================================\n",
      "Total params: 3369 (13.16 KB)\n",
      "Trainable params: 3369 (13.16 KB)\n",
      "Non-trainable params: 0 (0.00 Byte)\n",
      "_________________________________________________________________\n"
     ]
    }
   ],
   "source": [
    "autoencoder = load_model(\"autoencoder_seg.keras\")\n",
    "autoencoder.summary()"
   ]
  },
  {
   "cell_type": "code",
   "execution_count": 6,
   "metadata": {},
   "outputs": [],
   "source": [
    "test_masks = 1/255*test_masks"
   ]
  },
  {
   "cell_type": "code",
   "execution_count": 25,
   "metadata": {},
   "outputs": [
    {
     "name": "stdout",
     "output_type": "stream",
     "text": [
      "0\n",
      "2\n",
      "4\n",
      "6\n",
      "8\n",
      "10\n",
      "12\n",
      "14\n",
      "16\n",
      "18\n",
      "20\n",
      "22\n",
      "24\n",
      "26\n",
      "28\n",
      "30\n",
      "32\n",
      "34\n",
      "36\n",
      "38\n",
      "40\n",
      "42\n",
      "44\n",
      "46\n",
      "48\n",
      "50\n",
      "52\n",
      "54\n",
      "56\n",
      "58\n",
      "60\n",
      "62\n",
      "64\n",
      "66\n",
      "68\n",
      "70\n",
      "72\n",
      "74\n",
      "76\n",
      "78\n",
      "80\n",
      "82\n",
      "84\n",
      "86\n",
      "88\n",
      "90\n",
      "92\n",
      "94\n",
      "96\n",
      "98\n",
      "100\n",
      "102\n",
      "104\n",
      "106\n",
      "108\n",
      "110\n",
      "112\n",
      "114\n",
      "116\n",
      "118\n",
      "120\n",
      "122\n",
      "124\n",
      "126\n",
      "128\n",
      "130\n",
      "132\n",
      "134\n",
      "136\n",
      "138\n",
      "140\n",
      "142\n",
      "144\n",
      "146\n",
      "148\n",
      "150\n",
      "152\n",
      "154\n",
      "156\n",
      "158\n",
      "160\n",
      "162\n",
      "164\n",
      "166\n",
      "168\n",
      "170\n",
      "172\n",
      "174\n",
      "176\n",
      "178\n",
      "180\n",
      "182\n",
      "184\n",
      "186\n",
      "188\n",
      "190\n",
      "192\n",
      "194\n",
      "196\n",
      "198\n",
      "200\n",
      "202\n",
      "204\n",
      "206\n",
      "208\n",
      "210\n",
      "212\n",
      "214\n",
      "216\n",
      "218\n",
      "220\n",
      "222\n",
      "224\n",
      "226\n",
      "228\n",
      "230\n",
      "232\n",
      "234\n",
      "236\n",
      "238\n",
      "240\n",
      "242\n",
      "244\n",
      "246\n",
      "248\n",
      "250\n",
      "252\n",
      "254\n",
      "256\n",
      "258\n",
      "260\n",
      "262\n",
      "264\n",
      "266\n",
      "268\n",
      "270\n",
      "272\n",
      "274\n",
      "276\n",
      "278\n",
      "280\n",
      "282\n",
      "284\n",
      "286\n",
      "288\n",
      "290\n",
      "292\n",
      "294\n",
      "296\n",
      "298\n",
      "300\n",
      "302\n",
      "304\n",
      "306\n",
      "308\n",
      "310\n",
      "312\n",
      "314\n",
      "316\n",
      "318\n",
      "320\n",
      "322\n",
      "324\n",
      "326\n",
      "328\n",
      "330\n",
      "332\n",
      "334\n",
      "336\n",
      "338\n",
      "340\n",
      "342\n",
      "344\n",
      "346\n",
      "348\n",
      "350\n",
      "352\n",
      "354\n",
      "356\n",
      "358\n",
      "360\n",
      "362\n",
      "364\n",
      "366\n",
      "368\n",
      "370\n",
      "372\n",
      "374\n",
      "376\n",
      "378\n",
      "380\n",
      "382\n",
      "384\n",
      "386\n",
      "388\n",
      "390\n",
      "392\n",
      "394\n",
      "396\n",
      "398\n",
      "400\n",
      "402\n",
      "404\n",
      "406\n",
      "408\n",
      "410\n",
      "412\n",
      "414\n",
      "416\n",
      "418\n",
      "420\n",
      "422\n",
      "424\n",
      "426\n",
      "428\n",
      "430\n",
      "432\n",
      "434\n",
      "436\n",
      "438\n",
      "440\n",
      "442\n",
      "444\n",
      "446\n",
      "448\n",
      "450\n",
      "452\n",
      "454\n",
      "456\n",
      "458\n",
      "460\n",
      "462\n",
      "464\n",
      "466\n",
      "468\n",
      "470\n",
      "472\n",
      "474\n",
      "476\n",
      "478\n",
      "480\n",
      "482\n",
      "484\n",
      "486\n",
      "488\n",
      "490\n",
      "492\n",
      "494\n",
      "496\n",
      "498\n",
      "500\n",
      "502\n",
      "504\n",
      "506\n",
      "508\n",
      "510\n",
      "512\n",
      "514\n",
      "516\n",
      "518\n",
      "520\n",
      "522\n",
      "524\n",
      "526\n",
      "528\n",
      "530\n",
      "532\n",
      "534\n",
      "536\n",
      "538\n",
      "540\n",
      "542\n",
      "544\n",
      "546\n",
      "548\n",
      "550\n",
      "552\n",
      "554\n",
      "556\n",
      "558\n",
      "560\n",
      "562\n",
      "564\n",
      "566\n",
      "568\n",
      "570\n",
      "572\n",
      "574\n",
      "576\n",
      "578\n",
      "580\n",
      "582\n",
      "584\n",
      "586\n",
      "588\n",
      "590\n",
      "592\n",
      "594\n",
      "596\n",
      "598\n",
      "600\n",
      "602\n",
      "604\n",
      "606\n",
      "608\n",
      "610\n",
      "612\n",
      "614\n",
      "616\n",
      "618\n",
      "620\n",
      "622\n",
      "624\n",
      "626\n",
      "628\n",
      "630\n",
      "632\n",
      "634\n",
      "636\n",
      "638\n",
      "640\n",
      "642\n",
      "644\n",
      "646\n"
     ]
    }
   ],
   "source": [
    "s = np.zeros((648,255))\n",
    "m = np.concatenate((np.zeros((384,64)),np.concatenate((np.ones((384,384)),np.zeros((384,64))),axis=1)),axis=1)\n",
    "\n",
    "for i in range(0,648,2):\n",
    "    print(i)\n",
    "    z = test_data[i:i+2]/255\n",
    "    p = autoencoder(z).numpy()\n",
    "    for k in range(2):\n",
    "        mask = test_masks[i+k]\n",
    "        #Area\n",
    "        area = np.sum(mask)\n",
    "        \n",
    "        mi = np.min(p[k])\n",
    "        ma = np.max(p[k])\n",
    "            \n",
    "        ad = 255/(ma-mi)*(p[k]-mi)\n",
    "        \n",
    "        for t in range(255):\n",
    "            da = (ad>t).astype(np.uint8)\n",
    "\n",
    "            s0 = np.sum(ad,axis=0)\n",
    "            s1 = np.sum(s0[:128])\n",
    "            s2 = np.sum(s0[128:256])\n",
    "            s3 = np.sum(s0[256:384])\n",
    "            if s1>s2 or s3>s2:\n",
    "                da = (da.reshape(384,512)*m).astype(np.uint8)\n",
    "            \n",
    "            da = cv.morphologyEx(da, cv.MORPH_CLOSE, cv.getStructuringElement(cv.MORPH_ELLIPSE, (60, 45)))\n",
    "            da = np.pad(da,((1,1),(1,1)),'constant',constant_values=(0,0))\n",
    "            # Find largest contour in intermediate image\n",
    "            cnts, _ = cv.findContours(da, cv.RETR_EXTERNAL, cv.CHAIN_APPROX_NONE)\n",
    "            if len(cnts)!=0:\n",
    "                cnt = max(cnts, key=cv.contourArea)\n",
    "                # Output\n",
    "                out = np.zeros(da.shape, np.uint8)\n",
    "                cv.drawContours(out, [cnt], -1, 1, cv.FILLED)\n",
    "\n",
    "                diff = np.abs(mask.reshape((384,512))-out[1:385,1:513])\n",
    "                area_ratio = np.sum(diff)/area\n",
    "                \n",
    "                s[i+k,t] = area_ratio\n",
    "\n",
    "err = np.sum(s,axis=0)\n",
    "best_t = np.argmin(err)"
   ]
  },
  {
   "cell_type": "code",
   "execution_count": 27,
   "metadata": {},
   "outputs": [
    {
     "name": "stdout",
     "output_type": "stream",
     "text": [
      "252\n"
     ]
    }
   ],
   "source": [
    "print(best_t)"
   ]
  },
  {
   "cell_type": "code",
   "execution_count": 26,
   "metadata": {},
   "outputs": [
    {
     "name": "stdout",
     "output_type": "stream",
     "text": [
      "[8260.56900394 8260.56762803 8260.55779691 8260.53244844 8260.5041494\n",
      " 8260.46612345 8260.0164915  8258.54915698 8257.65972673 8256.00770302\n",
      " 8254.35021484 8252.76023079 8250.65581744 8247.19831637 8243.9755157\n",
      " 8237.30281431 8233.96779926 8230.08742761 8223.41605385 8216.75713938\n",
      " 8202.82800227 8185.54343068 8154.96795068 8139.11121075 8123.56182773\n",
      " 8106.45151807 8074.03177768 8027.98318731 7998.65453878 7957.65457716\n",
      " 7895.32373457 7847.3261834  7817.06148412 7751.18726582 7712.92959701\n",
      " 7664.71237509 7623.96569667 7577.62868492 7544.77713675 7510.1327863\n",
      " 7471.81098676 7379.28502108 7335.63703429 7305.38349556 7262.16324814\n",
      " 7209.88150931 7157.77167633 7107.01851304 7057.83694931 7005.5459898\n",
      " 6957.95802896 6907.76348074 6818.54180951 6760.29815463 6687.02391341\n",
      " 6610.25862027 6520.78289541 6442.58308242 6359.96515893 6295.18670358\n",
      " 6172.48513236 6109.27889187 6029.71838776 5934.46205929 5853.99490685\n",
      " 5789.08296073 5732.60351218 5685.16185866 5629.27957024 5559.76719336\n",
      " 5515.3801897  5446.60201457 5385.10510346 5268.83705963 5212.63680848\n",
      " 5162.71474739 5104.26913879 5056.68177214 5005.14839816 4943.85123851\n",
      " 4901.29918175 4842.17494552 4770.85877643 4715.59160041 4646.30653483\n",
      " 4590.73462868 4533.09417544 4471.21103019 4405.54097132 4362.16244817\n",
      " 4284.58860994 4239.4733977  4195.66989233 4157.89889448 4091.58192728\n",
      " 4038.5412689  3986.15163153 3921.07634123 3875.61323924 3831.30621795\n",
      " 3802.21192482 3776.43248022 3739.78922039 3697.3097006  3655.41430047\n",
      " 3623.13183987 3583.87402342 3515.9104932  3454.38164334 3424.97959398\n",
      " 3352.11452623 3323.6077389  3286.0878111  3238.14616886 3217.11627811\n",
      " 3189.29955793 3153.95582021 3123.51964275 3107.03387547 3074.92631398\n",
      " 3030.46468919 3003.38529717 2972.9442411  2918.73331833 2869.08596515\n",
      " 2837.04286904 2802.78193578 2755.04126569 2698.94481377 2649.00381093\n",
      " 2602.67252803 2562.25644261 2529.60700097 2505.16661151 2472.48221157\n",
      " 2444.6500924  2417.70826089 2388.19278236 2360.4753341  2328.57664047\n",
      " 2300.45458171 2247.18789934 2192.60012032 2135.86990337 2103.70497494\n",
      " 2083.61733895 2040.82686152 1999.227433   1942.63900577 1904.50676687\n",
      " 1875.19552938 1847.17844334 1826.0173507  1805.41665132 1768.08080364\n",
      " 1742.5906655  1699.54047361 1666.32398804 1647.78257432 1615.82896259\n",
      " 1542.11839907 1515.37508192 1484.48743123 1466.21953594 1422.04838101\n",
      " 1394.83496899 1369.11041017 1344.97589388 1310.0943162  1295.1682191\n",
      " 1278.83685066 1260.16711693 1236.6227321  1223.1191171  1204.50819533\n",
      " 1184.72100425 1169.82740894 1154.19900128 1140.12155667 1125.80790225\n",
      " 1116.15596402 1105.57145727 1092.89500814 1080.60149737 1066.24925264\n",
      " 1049.73835901 1037.3410762  1024.50245343  981.70995224  966.33019324\n",
      "  961.76350639  918.00952066  909.90403753  898.63262166  882.93032753\n",
      "  871.51540366  854.522199    846.6869786   833.22694429  822.74911848\n",
      "  817.66816011  809.44038154  804.47042941  797.31420463  784.97763643\n",
      "  776.53874023  772.92767382  733.678507    727.47717016  720.95882848\n",
      "  714.44362797  706.36722072  694.30211084  681.13340066  665.19197975\n",
      "  662.23081282  657.04734167  639.24694833  629.657064    625.35182235\n",
      "  618.43050109  613.13887141  609.59125468  599.89651716  598.25390119\n",
      "  596.75431586  594.01474446  584.08653426  579.66469664  577.37088525\n",
      "  572.36670741  567.97870651  566.27711398  564.42500366  563.58280557\n",
      "  563.25461222  558.53147944  557.13534203  552.88744435  550.91285104\n",
      "  545.88656771  539.38924433  538.76892581  535.12217656  533.75435906\n",
      "  524.27297978  521.69915825  520.69357795  519.3914545   511.45233055\n",
      "  510.97636185  511.83786802  509.20118261  512.21528768  512.00181931]\n"
     ]
    }
   ],
   "source": [
    "print(err)"
   ]
  },
  {
   "cell_type": "code",
   "execution_count": 28,
   "metadata": {},
   "outputs": [
    {
     "data": {
      "text/plain": [
       "<matplotlib.image.AxesImage at 0x2bc408b9d90>"
      ]
     },
     "execution_count": 28,
     "metadata": {},
     "output_type": "execute_result"
    },
    {
     "data": {
      "image/png": "[encoded data removed]",
      "text/plain": [
       "<Figure size 640x480 with 1 Axes>"
      ]
     },
     "metadata": {},
     "output_type": "display_data"
    }
   ],
   "source": [
    "plt.imshow(mask,cmap='gray')"
   ]
  },
  {
   "cell_type": "code",
   "execution_count": 29,
   "metadata": {},
   "outputs": [
    {
     "data": {
      "text/plain": [
       "<matplotlib.image.AxesImage at 0x2bc3ae649d0>"
      ]
     },
     "execution_count": 29,
     "metadata": {},
     "output_type": "execute_result"
    },
    {
     "data": {
      "image/png": "[encoded data removed]",
      "text/plain": [
       "<Figure size 640x480 with 1 Axes>"
      ]
     },
     "metadata": {},
     "output_type": "display_data"
    }
   ],
   "source": [
    "plt.imshow(out,cmap='gray')"
   ]
  },
  {
   "cell_type": "code",
   "execution_count": 19,
   "metadata": {},
   "outputs": [
    {
     "data": {
      "text/plain": [
       "<matplotlib.image.AxesImage at 0x2bc252a0510>"
      ]
     },
     "execution_count": 19,
     "metadata": {},
     "output_type": "execute_result"
    },
    {
     "data": {
      "image/png": "[encoded data removed]",
      "text/plain": [
       "<Figure size 640x480 with 1 Axes>"
      ]
     },
     "metadata": {},
     "output_type": "display_data"
    }
   ],
   "source": [
    "plt.imshow(out[1:385,1:513]-mask.reshape((384,512)),cmap='gray')"
   ]
  }
 ],
 "metadata": {
  "kernelspec": {
   "display_name": "Python 3",
   "language": "python",
   "name": "python3"
  },
  "language_info": {
   "codemirror_mode": {
    "name": "ipython",
    "version": 3
   },
   "file_extension": ".py",
   "mimetype": "text/x-python",
   "name": "python",
   "nbconvert_exporter": "python",
   "pygments_lexer": "ipython3",
   "version": "3.11.4"
  }
 },
 "nbformat": 4,
 "nbformat_minor": 2
}
